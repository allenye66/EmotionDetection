{
  "nbformat": 4,
  "nbformat_minor": 0,
  "metadata": {
    "colab": {
      "name": "Part 2",
      "provenance": [],
      "collapsed_sections": [],
      "include_colab_link": true
    },
    "kernelspec": {
      "name": "python3",
      "display_name": "Python 3"
    }
  },
  "cells": [
    {
      "cell_type": "markdown",
      "metadata": {
        "id": "view-in-github",
        "colab_type": "text"
      },
      "source": [
        "<a href=\"https://colab.research.google.com/github/allenye66/EmotionDetection/blob/master/Part_2.ipynb\" target=\"_parent\"><img src=\"https://colab.research.google.com/assets/colab-badge.svg\" alt=\"Open In Colab\"/></a>"
      ]
    },
    {
      "cell_type": "code",
      "metadata": {
        "id": "H1K_OUCXfPzH",
        "colab_type": "code",
        "cellView": "both",
        "colab": {
          "base_uri": "https://localhost:8080/",
          "height": 34
        },
        "outputId": "acc1da92-cbcc-426f-d35e-0875b112b6e0"
      },
      "source": [
        "#@title Run this to download the data and setup our environment\n",
        "\n",
        "import cv2\n",
        "import dlib\n",
        "import gdown\n",
        "import pickle\n",
        "import warnings\n",
        "\n",
        "import numpy as np\n",
        "import pandas as pd\n",
        "import seaborn as sns\n",
        "\n",
        "import urllib.request\n",
        "\n",
        "from sklearn import metrics\n",
        "\n",
        "\n",
        "from scipy.spatial import distance\n",
        "from matplotlib import pyplot as plt\n",
        "from sklearn.decomposition import PCA\n",
        "from sklearn.preprocessing import StandardScaler\n",
        "from sklearn.linear_model import LogisticRegression\n",
        "from sklearn.tree import DecisionTreeClassifier \n",
        "from sklearn.neighbors import KNeighborsClassifier\n",
        "from sklearn.model_selection import train_test_split\n",
        "\n",
        "warnings.filterwarnings(\"ignore\")\n",
        "\n",
        "###Getting the csv data loaded\n",
        "\n",
        "dataset_url = 'https://drive.google.com/uc?id=1xFiYsULlQWWmi2Ai0fHjtApniP5Pscuf'\n",
        "dataset_path = './ferdata.csv'\n",
        "gdown.download(dataset_url, dataset_path, True)\n",
        "\n",
        "###Getting the Dlib Shape predictor!\n",
        "\n",
        " \n",
        "\n",
        "###Getting the Xpure loaded\n",
        "\n",
        "pureX_url = 'https://drive.google.com/uc?id=1CglpXodenZVrkaZehLtfykfQv8dcnfO9'\n",
        "pureX_path = './pureX.npy'\n",
        "gdown.download(pureX_url, pureX_path,True)\n",
        "\n",
        "###Getting the Xdata loaded\n",
        "\n",
        "dataX_url = 'https://drive.google.com/uc?id=1sIJGxUM6rNBcWxucs6iynDepeKU1Q56p'\n",
        "dataX_path = './dataX.npy'\n",
        "gdown.download(dataX_url, dataX_path, True)\n",
        "\n",
        "\n",
        "###Getting the Ydata loaded\n",
        "\n",
        "dataY_url = 'https://drive.google.com/uc?id=1Rfr0OP-hZO_UZfuOyMNR2RjNRAro85zE'\n",
        "dataY_path = './dataY.npy'\n",
        "gdown.download(dataY_url, dataY_path, True)\n",
        "\n",
        "print (\"Data Downloaded!\")\n"
      ],
      "execution_count": null,
      "outputs": [
        {
          "output_type": "stream",
          "text": [
            "Data Downloaded!\n"
          ],
          "name": "stdout"
        }
      ]
    },
    {
      "cell_type": "markdown",
      "metadata": {
        "id": "DtHdXOQqF_kA",
        "colab_type": "text"
      },
      "source": [
        "#Milestone 1: Understanding Feature Generation Process"
      ]
    },
    {
      "cell_type": "markdown",
      "metadata": {
        "id": "KgB5l___P_Ja",
        "colab_type": "text"
      },
      "source": [
        "## Instructor-led Discussion: Understanding the significance of Facial landmarks\n"
      ]
    },
    {
      "cell_type": "markdown",
      "metadata": {
        "id": "QPNqs8hKQjcN",
        "colab_type": "text"
      },
      "source": [
        "Take a look at the images with facial landmarks superimposed over the faces!\n",
        "![Image 4](https://drive.google.com/uc?export=view&id=1UbK_vP1VelNr5V45okEy26nCoGoyUGH-)"
      ]
    },
    {
      "cell_type": "markdown",
      "metadata": {
        "id": "xLn2UT8XiF3X",
        "colab_type": "text"
      },
      "source": [
        "###Exercise 1A(Discussion) | Est Time: | Within a student group"
      ]
    },
    {
      "cell_type": "markdown",
      "metadata": {
        "id": "9mQpj-xyqNJr",
        "colab_type": "text"
      },
      "source": [
        "\n",
        "\n",
        "```\n",
        "\n",
        "\n",
        "\n",
        "```\n",
        "\n",
        "#### Comment on positions of Facial Landmarks(FL) based on different emotion images? Can we used euclidean distance to distinguish between emotions?"
      ]
    },
    {
      "cell_type": "markdown",
      "metadata": {
        "id": "Dqw7wKpPSCUR",
        "colab_type": "text"
      },
      "source": [
        "##Distance between Facial Landmarks\n",
        "\n"
      ]
    },
    {
      "cell_type": "markdown",
      "metadata": {
        "id": "bNftU_43j2AZ",
        "colab_type": "text"
      },
      "source": [
        "Based on our discussion, we can use the euclidean distances of all facial landmarks with each other and use it as input (X) to our model to predict our emotions (Y)"
      ]
    },
    {
      "cell_type": "markdown",
      "metadata": {
        "id": "VKiMk58TjzKc",
        "colab_type": "text"
      },
      "source": [
        "###Exercise 1B (Discussion) | Est Time: | Within a student group"
      ]
    },
    {
      "cell_type": "code",
      "metadata": {
        "id": "ex66YDjYjuRN",
        "colab_type": "code",
        "colab": {
          "base_uri": "https://localhost:8080/",
          "height": 51
        },
        "outputId": "7b1ad066-c397-4396-e307-9e609a03c76f"
      },
      "source": [
        "#@title Q1: Number of distance values after computing euclidean distances among facial landmarks? Q2: Number of distance values after computing euclidean distances (exclusive of distances of facial landmarks points with itself)? { display-mode: \"form\" }\n",
        "\n",
        "Q1 = \"4628\" #@param [\"2304\",\"4556\",\"4628\",\"68\",\"Fill Me In\"] \n",
        "\n",
        "Q2 = \"4556\" #@param [\"2304\",\"4556\",\"4628\",\"68\",\"Fill Me In\"] \n",
        "\n",
        "if Q1 == '4628': \n",
        "  print('Yes! 68 * 68 = 4628.') \n",
        "else: \n",
        "  print('Try Again')\n",
        "\n",
        "if Q2 == \"4556\": \n",
        "  print(\"Thats Right! If we exculde the distance of points with itself, we will have 4628 - 68 = 4556 distance values\")\n",
        "else: \n",
        "  print('Try again!')"
      ],
      "execution_count": null,
      "outputs": [
        {
          "output_type": "stream",
          "text": [
            "Yes! 68 * 68 = 4628.\n",
            "Thats Right! If we exculde the distance of points with itself, we will have 4628 - 68 = 4556 distance values\n"
          ],
          "name": "stdout"
        }
      ]
    },
    {
      "cell_type": "markdown",
      "metadata": {
        "id": "UiQPTFiMG-Ly",
        "colab_type": "text"
      },
      "source": [
        "###Exercise Takeaways!\n",
        "\n"
      ]
    },
    {
      "cell_type": "markdown",
      "metadata": {
        "id": "xNRbQK8A25Zu",
        "colab_type": "text"
      },
      "source": [
        "Facial landmark distances can be used as features (X) into a model where the outputs (Y) are emotions"
      ]
    },
    {
      "cell_type": "markdown",
      "metadata": {
        "id": "_TxlMtSqDMMw",
        "colab_type": "text"
      },
      "source": [
        "## Instructor-led Discussion: Emotion Detection Pipeline"
      ]
    },
    {
      "cell_type": "markdown",
      "metadata": {
        "id": "yOrucHQ3mFQv",
        "colab_type": "text"
      },
      "source": [
        "The three main components of Emotion Detection are as follows:\n",
        "\n",
        "\n",
        "1.   Image Preprocessing\n",
        "2.   Feature Extraction\n",
        "3.   Feature Classification\n",
        "\n"
      ]
    },
    {
      "cell_type": "markdown",
      "metadata": {
        "id": "YQgivc1AEOx8",
        "colab_type": "text"
      },
      "source": [
        "![](https://drive.google.com/uc?export=view&id=13_IxWcKkliquOQXuW4-vyfbpMA3X0Xzx)"
      ]
    },
    {
      "cell_type": "markdown",
      "metadata": {
        "id": "MTquSms-HhMX",
        "colab_type": "text"
      },
      "source": [
        "# Milestone 2: Understand,Visualize and Prepare the Data"
      ]
    },
    {
      "cell_type": "markdown",
      "metadata": {
        "id": "ml8XwGzOVvWX",
        "colab_type": "text"
      },
      "source": [
        "### Dataset Background"
      ]
    },
    {
      "cell_type": "markdown",
      "metadata": {
        "id": "kPAqGjslU4T2",
        "colab_type": "text"
      },
      "source": [
        "We will use modified version of the fer2013 dataset consisting of five emotion labels. \n",
        "\n",
        "The dataset is stored in a csvfile. Each row in the csvfile denotes an instance. \n",
        "Every instance has two column attributes : \n",
        "\n",
        "*   Pixels of the image stored in string format \n",
        "*   Integer encoding of the target label\n",
        "\n",
        "There are total of 20,000 images distributed equally across the five emotions. The images are 48\\*48 grayscale cropped images. The csvfile consists of flattened array of the image stored in form of a string\n",
        "\n",
        "The target labels are integer encoded in the csvfile.They are mapped as follows:\n",
        "\n",
        "*   0 ---> Angry\n",
        "*   1 ---> Happy\n",
        "*   2 ---> Sad\n",
        "*   3 ---> Surprise\n",
        "*   4 ---> Neutral\n",
        "\n"
      ]
    },
    {
      "cell_type": "markdown",
      "metadata": {
        "id": "kbQ9sErcYPil",
        "colab_type": "text"
      },
      "source": [
        "### Load the dataset "
      ]
    },
    {
      "cell_type": "code",
      "metadata": {
        "id": "0bg16jaZu7vF",
        "colab_type": "code",
        "colab": {
          "base_uri": "https://localhost:8080/",
          "height": 204
        },
        "outputId": "21efcb91-6d7c-480c-e591-fc71ed063a5e"
      },
      "source": [
        "#Load the datala\n",
        "import pandas as pd\n",
        "df = pd.read_csv(\"./ferdata.csv\")\n",
        "df.head()"
      ],
      "execution_count": null,
      "outputs": [
        {
          "output_type": "execute_result",
          "data": {
            "text/html": [
              "<div>\n",
              "<style scoped>\n",
              "    .dataframe tbody tr th:only-of-type {\n",
              "        vertical-align: middle;\n",
              "    }\n",
              "\n",
              "    .dataframe tbody tr th {\n",
              "        vertical-align: top;\n",
              "    }\n",
              "\n",
              "    .dataframe thead th {\n",
              "        text-align: right;\n",
              "    }\n",
              "</style>\n",
              "<table border=\"1\" class=\"dataframe\">\n",
              "  <thead>\n",
              "    <tr style=\"text-align: right;\">\n",
              "      <th></th>\n",
              "      <th>emotion</th>\n",
              "      <th>pixels</th>\n",
              "      <th>Usage</th>\n",
              "    </tr>\n",
              "  </thead>\n",
              "  <tbody>\n",
              "    <tr>\n",
              "      <th>0</th>\n",
              "      <td>0</td>\n",
              "      <td>215 216 215 215 215 216 216 216 214 178 81 30 ...</td>\n",
              "      <td>Training</td>\n",
              "    </tr>\n",
              "    <tr>\n",
              "      <th>1</th>\n",
              "      <td>4</td>\n",
              "      <td>244 244 244 244 243 244 242 190 132 93 81 73 7...</td>\n",
              "      <td>Training</td>\n",
              "    </tr>\n",
              "    <tr>\n",
              "      <th>2</th>\n",
              "      <td>4</td>\n",
              "      <td>255 255 255 255 255 255 255 255 255 255 255 25...</td>\n",
              "      <td>Training</td>\n",
              "    </tr>\n",
              "    <tr>\n",
              "      <th>3</th>\n",
              "      <td>4</td>\n",
              "      <td>38 56 60 52 58 65 53 44 35 48 59 60 36 30 21 3...</td>\n",
              "      <td>Training</td>\n",
              "    </tr>\n",
              "    <tr>\n",
              "      <th>4</th>\n",
              "      <td>4</td>\n",
              "      <td>77 40 27 21 22 25 20 31 27 17 27 42 47 55 51 4...</td>\n",
              "      <td>Training</td>\n",
              "    </tr>\n",
              "  </tbody>\n",
              "</table>\n",
              "</div>"
            ],
            "text/plain": [
              "   emotion                                             pixels     Usage\n",
              "0        0  215 216 215 215 215 216 216 216 214 178 81 30 ...  Training\n",
              "1        4  244 244 244 244 243 244 242 190 132 93 81 73 7...  Training\n",
              "2        4  255 255 255 255 255 255 255 255 255 255 255 25...  Training\n",
              "3        4  38 56 60 52 58 65 53 44 35 48 59 60 36 30 21 3...  Training\n",
              "4        4  77 40 27 21 22 25 20 31 27 17 27 42 47 55 51 4...  Training"
            ]
          },
          "metadata": {
            "tags": []
          },
          "execution_count": 111
        }
      ]
    },
    {
      "cell_type": "code",
      "metadata": {
        "id": "eDkjje6WHuA7",
        "colab_type": "code",
        "colab": {
          "base_uri": "https://localhost:8080/",
          "height": 34
        },
        "outputId": "76bccdf9-7af1-4fc1-dec3-77d7a77133c1"
      },
      "source": [
        "len( df['pixels'][0] ) "
      ],
      "execution_count": null,
      "outputs": [
        {
          "output_type": "execute_result",
          "data": {
            "text/plain": [
              "7990"
            ]
          },
          "metadata": {
            "tags": []
          },
          "execution_count": 85
        }
      ]
    },
    {
      "cell_type": "code",
      "metadata": {
        "id": "nL1lZWc8Hz7Q",
        "colab_type": "code",
        "colab": {
          "base_uri": "https://localhost:8080/",
          "height": 34
        },
        "outputId": "8181188b-c406-4a84-d4d7-45166b59772b"
      },
      "source": [
        "type( df['pixels'][0] ) "
      ],
      "execution_count": null,
      "outputs": [
        {
          "output_type": "execute_result",
          "data": {
            "text/plain": [
              "str"
            ]
          },
          "metadata": {
            "tags": []
          },
          "execution_count": 86
        }
      ]
    },
    {
      "cell_type": "code",
      "metadata": {
        "id": "kLrzsniFIPn2",
        "colab_type": "code",
        "colab": {}
      },
      "source": [
        "#Integer to Label Mapping\n",
        "label_map = {0:\"ANGRY\",1:\"HAPPY\",2:\"SAD\",3:\"SURPRISE\",4:\"NEUTRAL\"}"
      ],
      "execution_count": null,
      "outputs": []
    },
    {
      "cell_type": "code",
      "metadata": {
        "id": "emNk3kn7-SWh",
        "colab_type": "code",
        "colab": {
          "base_uri": "https://localhost:8080/",
          "height": 306
        },
        "outputId": "8092efbf-711f-43c9-a8a9-62c7bc34ddae"
      },
      "source": [
        "# generate x labels for our plot\n",
        "#emotion_labels = [label_map[i] for i in label_map.keys()]\n",
        "emotion_labels = list(label_map.values())\n",
        "# generate counts for each emotion type\n",
        "emotion_counts = [np.sum(df[\"emotion\"] == i) for i in range(len(label_map))]\n",
        "\n",
        "# generate a bar plot for our emotion labels that has different colors \n",
        "[plt.bar(x = emotion_labels[i], height = emotion_counts[i] ) for i in range(len(emotion_labels))] \n",
        "\n",
        "# make the plot interpretable with x and y labels + title\n",
        "plt.xlabel('EMOTION LABEL')\n",
        "plt.ylabel('N OBSERVSATIONS')\n",
        "plt.title('A balanced distribution of emotions in our data set', y=1.05); "
      ],
      "execution_count": null,
      "outputs": [
        {
          "output_type": "display_data",
          "data": {
            "image/png": "[encoded data removed]",
            "text/plain": [
              "<Figure size 432x288 with 1 Axes>"
            ]
          },
          "metadata": {
            "tags": [],
            "needs_background": "light"
          }
        }
      ]
    },
    {
      "cell_type": "markdown",
      "metadata": {
        "id": "0UPLgR0k-fEJ",
        "colab_type": "text"
      },
      "source": [
        "###Exercise 2A Balanced vs. Unbalanced Datasets"
      ]
    },
    {
      "cell_type": "markdown",
      "metadata": {
        "id": "CG57yqywq1jW",
        "colab_type": "text"
      },
      "source": [
        "####What would be the implications of an unbalanced dataset?"
      ]
    },
    {
      "cell_type": "markdown",
      "metadata": {
        "id": "KaqNfQF5Y8iM",
        "colab_type": "text"
      },
      "source": [
        "### Data Visualization"
      ]
    },
    {
      "cell_type": "markdown",
      "metadata": {
        "id": "1BbN1EO_-VMc",
        "colab_type": "text"
      },
      "source": [
        "In this section, we will convert the flattened pixel arrays to 2D images, so as to plot facial landmarks over the images"
      ]
    },
    {
      "cell_type": "code",
      "metadata": {
        "id": "25joaxHAQcw2",
        "colab_type": "code",
        "colab": {}
      },
      "source": [
        "import os"
      ],
      "execution_count": null,
      "outputs": []
    },
    {
      "cell_type": "code",
      "metadata": {
        "id": "baxrsFUQQeeT",
        "colab_type": "code",
        "colab": {
          "base_uri": "https://localhost:8080/",
          "height": 119
        },
        "outputId": "dd38220f-f1ce-4b4d-bbca-648c34f32226"
      },
      "source": [
        "os.listdir() "
      ],
      "execution_count": null,
      "outputs": [
        {
          "output_type": "execute_result",
          "data": {
            "text/plain": [
              "['.config',\n",
              " 'ferdata.csv',\n",
              " 'dataX.npy',\n",
              " 'dataY.npy',\n",
              " 'pureX.npy',\n",
              " 'sample_data']"
            ]
          },
          "metadata": {
            "tags": []
          },
          "execution_count": 91
        }
      ]
    },
    {
      "cell_type": "code",
      "metadata": {
        "id": "jTkynlyy75cm",
        "colab_type": "code",
        "cellView": "form",
        "colab": {}
      },
      "source": [
        "#@title Run this code to setup the extraction of Facial Landmarks\n",
        "\n",
        "# Load's dlib's pretrained face detector model\n",
        "#frontalface_detector = dlib.get_frontal_face_detector()\n",
        "\n",
        "\n",
        "#Load the 68 face Landmark file\n",
        "#predictor = dlib.shape_predictor('./shape_predictor_68_face_landmarks.dat')\n",
        "\"\"\"\n",
        "Returns facial landmarks for the given input image path\n",
        "\"\"\"\n",
        "def get_landmarks(image):\n",
        "  \n",
        "  \n",
        "  #:type image : cv2 object\n",
        "  #:rtype landmarks : list of tuples where each tuple represents \n",
        "  #                  the x and y co-ordinates of facial keypoints\n",
        "  \n",
        "  #Bounding Box co-ordinates around the face(Training data is 48*48(cropped faces))\n",
        "  rects = [dlib.rectangle(left=1, top=1, right=47, bottom=47)]\n",
        "\n",
        "  #Read Image using OpenCV\n",
        "  #image = cv2.imread(image_path)\n",
        "  #Detect the Faces within the image\n",
        "  landmarks = [(p.x, p.y) for p in predictor(image, rects[0]).parts()]\n",
        "  return image,landmarks\n",
        "\n",
        "\"\"\"\n",
        "Display image with its Facial Landmarks\n",
        "\"\"\"\n",
        "def image_landmarks(image,face_landmarks):\n",
        "  \"\"\"\n",
        "  :type image_path : str\n",
        "  :type face_landmarks : list of tuples where each tuple represents \n",
        "                     the x and y co-ordinates of facial keypoints\n",
        "  :rtype : None\n",
        "  \"\"\"\n",
        "  radius = -2\n",
        "  circle_thickness = 1\n",
        "  image_copy = image.copy()\n",
        "  for (x, y) in face_landmarks:\n",
        "    cv2.circle(image_copy, (x, y), circle_thickness, (255,0,0), radius)\n",
        "    \n",
        "  plt.imshow(image_copy, interpolation='nearest', cmap='Greys_r')\n",
        "  plt.xticks([]); plt.yticks([])\n",
        "  plt.show()\n",
        "  \n",
        " \n",
        "'''\n",
        "Converts pixels values to 2D-image. \n",
        "Displays the image and returns the cv2 image\n",
        "object\n",
        "'''\n",
        "def pixels_image(img_pixels,plt_flag):\n",
        "  \"\"\"\n",
        "  :type image_pixels : str\n",
        "  :type plt_flag : boolean\n",
        "  :rtype image : cv2 object\n",
        "  \"\"\"\n",
        "  \n",
        "  width = 48\n",
        "  height = 48\n",
        "  \n",
        "  image = np.fromstring(img_pixels, dtype=np.uint8, sep=\" \").reshape((height, width))\n",
        "  \n",
        "  if plt_flag:\n",
        "      plt.imshow(image, interpolation='nearest', cmap=\"Greys_r\")\n",
        "      plt.xticks([]); plt.yticks([])\n",
        "      plt.show()\n",
        "      \n",
        "      \n",
        "  return image\n"
      ],
      "execution_count": null,
      "outputs": []
    },
    {
      "cell_type": "markdown",
      "metadata": {
        "id": "fMrrq0fxlBbN",
        "colab_type": "text"
      },
      "source": [
        "###Lets visualize our datapoints!!!"
      ]
    },
    {
      "cell_type": "code",
      "metadata": {
        "id": "E6kqtTORlAZ3",
        "colab_type": "code",
        "colab": {
          "base_uri": "https://localhost:8080/",
          "height": 252
        },
        "outputId": "d82a8b4a-b7d8-4f81-fe42-917b00bcf910"
      },
      "source": [
        "# select random index \n",
        "i_index = np.random.randint(len(df))\n",
        "\n",
        "# extract pixel values \n",
        "image_pixels = df['pixels'][i_index]        \n",
        "\n",
        "# convert pixels to 2D Images\n",
        "image = pixels_image(image_pixels, True)"
      ],
      "execution_count": null,
      "outputs": [
        {
          "output_type": "display_data",
          "data": {
            "image/png": "[encoded data removed]",
            "text/plain": [
              "<Figure size 432x288 with 1 Axes>"
            ]
          },
          "metadata": {
            "tags": []
          }
        }
      ]
    },
    {
      "cell_type": "code",
      "metadata": {
        "id": "IP6ZiSusJEWS",
        "colab_type": "code",
        "colab": {
          "base_uri": "https://localhost:8080/",
          "height": 252
        },
        "outputId": "d821982d-dd4a-4dbd-da82-d65c790ee78f"
      },
      "source": [
        "# select random index \n",
        "i_index = np.random.randint(len(df))\n",
        "\n",
        "# extract pixel values \n",
        "image_pixels = df['pixels'][i_index]        \n",
        "\n",
        "# convert pixels to 2D Images\n",
        "image_i = pixels_image(image_pixels, True)"
      ],
      "execution_count": null,
      "outputs": [
        {
          "output_type": "display_data",
          "data": {
            "image/png": "[encoded data removed]",
            "text/plain": [
              "<Figure size 432x288 with 1 Axes>"
            ]
          },
          "metadata": {
            "tags": []
          }
        }
      ]
    },
    {
      "cell_type": "code",
      "metadata": {
        "id": "hdTlMmueJKYl",
        "colab_type": "code",
        "colab": {}
      },
      "source": [
        ""
      ],
      "execution_count": null,
      "outputs": []
    },
    {
      "cell_type": "code",
      "metadata": {
        "id": "4EtcbUdzJYl5",
        "colab_type": "code",
        "colab": {
          "base_uri": "https://localhost:8080/",
          "height": 282
        },
        "outputId": "9e9178d9-2b2f-4aa0-8f3f-babe971cbb3d"
      },
      "source": [
        "plt.plot( image.flatten() )\n",
        "plt.plot( image_i.flatten() ) "
      ],
      "execution_count": null,
      "outputs": [
        {
          "output_type": "execute_result",
          "data": {
            "text/plain": [
              "[<matplotlib.lines.Line2D at 0x7ff999090eb8>]"
            ]
          },
          "metadata": {
            "tags": []
          },
          "execution_count": 95
        },
        {
          "output_type": "display_data",
          "data": {
            "image/png": "[encoded data removed]",
            "text/plain": [
              "<Figure size 432x288 with 1 Axes>"
            ]
          },
          "metadata": {
            "tags": [],
            "needs_background": "light"
          }
        }
      ]
    },
    {
      "cell_type": "code",
      "metadata": {
        "id": "jWq-f7B-BOjh",
        "colab_type": "code",
        "cellView": "form",
        "colab": {}
      },
      "source": [
        "#@title Can you get the label for the face above? "
      ],
      "execution_count": null,
      "outputs": []
    },
    {
      "cell_type": "markdown",
      "metadata": {
        "id": "iEKhOBy1-_aB",
        "colab_type": "text"
      },
      "source": [
        "####Plot Facial Landmarks on the Datapoints"
      ]
    },
    {
      "cell_type": "code",
      "metadata": {
        "id": "LLcpEqE_-w-T",
        "colab_type": "code",
        "colab": {}
      },
      "source": [
        "#Extract the Facial Landmarks\n",
        "image,facial_landmarks = get_landmarks(image)\n",
        "facial_landmarks = get_landmarks(image,face_rects)\n",
        "#Display the Facial Landmarks on the Image\n",
        "image_landmarks(image,facial_landmarks)"
      ],
      "execution_count": null,
      "outputs": []
    },
    {
      "cell_type": "code",
      "metadata": {
        "id": "tKTehELYJtrj",
        "colab_type": "code",
        "colab": {}
      },
      "source": [
        ""
      ],
      "execution_count": null,
      "outputs": []
    },
    {
      "cell_type": "markdown",
      "metadata": {
        "id": "27HUOaMqagU7",
        "colab_type": "text"
      },
      "source": [
        "###Extract the features and save the data"
      ]
    },
    {
      "cell_type": "markdown",
      "metadata": {
        "id": "uh4mN71xbyvO",
        "colab_type": "text"
      },
      "source": [
        " We'll need to create X and Y arrays for our model:\n",
        " \n",
        "      X is a list of lists, where each element in X represents a single picture\n",
        "                            where a picture is represented by a list distances \n",
        "                            between facial landmark points\n",
        "\n",
        "      Y is a list of numbers, where each element in Y represents the emotion \n",
        "                              for the corresponding picture\n",
        "\n",
        "      X_pixels is a list of lists, where each element in X represents a single \n",
        "                           picture where a picture is represented by its pixels \n",
        "\n",
        " X and Y must be ordered in the same way so that X[0] and Y[0] refer to the \n",
        " first picture, X[1] and Y[1] refer to the second picture, and so on.\n",
        "\n",
        " "
      ]
    },
    {
      "cell_type": "markdown",
      "metadata": {
        "id": "GiBA4Uz1ZjOb",
        "colab_type": "text"
      },
      "source": [
        "###Euclidean Distance between Facial Landmarks"
      ]
    },
    {
      "cell_type": "markdown",
      "metadata": {
        "id": "DZkElB0PATtd",
        "colab_type": "text"
      },
      "source": [
        "####Exercise(Coding)\n",
        "\n",
        "Complete the function below to compute the euclidean distances between all 68 Facial Landmark points, excluding the distances of the points with themselves"
      ]
    },
    {
      "cell_type": "code",
      "metadata": {
        "id": "AblhKSuIZufy",
        "colab_type": "code",
        "colab": {}
      },
      "source": [
        "\"\"\"\n",
        "Computes euclidean distance between 68 Landmark Points for our features\n",
        "e_dist is a list of features that will go into our model.\n",
        "Each feature is a distance between two landmark points, and every pair of points\n",
        "must have a feature. \n",
        "Scipy Library has readily available fuction to compute euclidean distance. You can \n",
        "compute the distance using distance.euclidean(point1,point2)\n",
        "point1,point2 :2D points\n",
        "\"\"\"\n",
        "def landmarks_edist(face_landmarks):\n",
        "    e_dist = []\n",
        "    for i in range(len(face_landmarks)):\n",
        "      for j in range(i+1, len(face_landmarks)):\n",
        "        e_dist.append(distance.euclidean(face_landmarks[i],face_landmarks[j]))\n",
        "   \n",
        "  \n",
        "    return e_dist\n"
      ],
      "execution_count": null,
      "outputs": []
    },
    {
      "cell_type": "code",
      "metadata": {
        "id": "Im_3G3gtaqsK",
        "colab_type": "code",
        "cellView": "form",
        "colab": {}
      },
      "source": [
        "#@title Function that preprocesses the data to extract distances between all points\n",
        "\n",
        "def preprocess_data(df):\n",
        "  \n",
        "  X = []\n",
        "  Y = []\n",
        "  X_pixels = []\n",
        "  \n",
        "  n_pixels = 2304\n",
        "  \n",
        "  for index, row in (df.iterrows()):\n",
        "\n",
        "      if index%1000 == 0:\n",
        "        print (index, \"Datapoints Processed\")\n",
        "        \n",
        "      try:\n",
        "          image = pixels_image(row['pixels'],0)\n",
        "          X_pixels.append(image.ravel()) \n",
        "          image = cv2.GaussianBlur(image,(5,5),0)\n",
        "         \n",
        "          _,face_landmarks = get_landmarks(image)\n",
        "          X.append(landmarks_edist(face_landmarks)) # Using our feature function!\n",
        "          Y.append(row['emotion'])\n",
        "\n",
        "      except Exception as e:\n",
        "          print (\"An error occured:\",e)\n",
        "\n",
        "  #Save the data \n",
        "  np.save(\"pureX\", X_pixels)\n",
        "  np.save(\"dataX\", X)\n",
        "  np.save(\"dataY\", Y)\n",
        "  \n",
        "  return np.array(X_pixels),np.array(X),np.array(Y) "
      ],
      "execution_count": null,
      "outputs": []
    },
    {
      "cell_type": "markdown",
      "metadata": {
        "id": "5tMU3NCZcpcF",
        "colab_type": "text"
      },
      "source": [
        "###Load the Saved Data"
      ]
    },
    {
      "cell_type": "code",
      "metadata": {
        "id": "cypubed0HIBt",
        "colab_type": "code",
        "colab": {}
      },
      "source": [
        "# set to True if we want to preload data -- which has already been generated for us :) \n",
        "preload = True \n",
        "\n",
        "if preload: \n",
        "\n",
        "  # load outputs saved in this folder after running preprocess_data() \n",
        "  dataX = np.load('./dataX.npy')\n",
        "  dataY = np.load('./dataY.npy')\n",
        "  \n",
        "else: \n",
        "  \n",
        "  # this takes 15-20 minutes to run, but someone has already run it and saved the ouputs in this folder\n",
        "  pureX, dataX, dataY = preprocess_data(df)"
      ],
      "execution_count": null,
      "outputs": []
    },
    {
      "cell_type": "markdown",
      "metadata": {
        "id": "243exuhMd38d",
        "colab_type": "text"
      },
      "source": [
        "###Split the data\n",
        "\n"
      ]
    },
    {
      "cell_type": "markdown",
      "metadata": {
        "id": "cNWZEOrJDVpF",
        "colab_type": "text"
      },
      "source": [
        "We split our data into different 'sets' that each will work differently with our machine learning model.\n",
        "\n",
        "Think of our AI as a machine learning 'student'.\n",
        "\n",
        "**Training Set**: Our training set is like a training manual. Our algorithm will read, or 'train', on this over and over again to try and learn its task.\n",
        "\n",
        "**Test Set**: Our test set is like a test. It is testing our model on problems that it has not seen before.\n",
        "\n",
        "We usually have a much larger training manual than our test. Let's see if this is the case with our data!"
      ]
    },
    {
      "cell_type": "code",
      "metadata": {
        "id": "3cAC2tMjwK34",
        "colab_type": "code",
        "colab": {}
      },
      "source": [
        "#Split Data into Train, Test (90-10)\n",
        "X_train, X_test, y_train, y_test = train_test_split(dataX, dataY, test_size=0.1, random_state=42,stratify =dataY)"
      ],
      "execution_count": null,
      "outputs": []
    },
    {
      "cell_type": "code",
      "metadata": {
        "id": "XtHs4GkFPNwT",
        "colab_type": "code",
        "colab": {}
      },
      "source": [
        ""
      ],
      "execution_count": null,
      "outputs": []
    },
    {
      "cell_type": "markdown",
      "metadata": {
        "id": "jFES356Ndp6U",
        "colab_type": "text"
      },
      "source": [
        "### Instructor-led Discussion: Standardization of Data"
      ]
    },
    {
      "cell_type": "markdown",
      "metadata": {
        "id": "pbtM9MnxBozT",
        "colab_type": "text"
      },
      "source": [
        "Standardization is the process of putting different variables on the same scale. It is a transformation that centers the data by removing the mean value of each feature and then scale it by dividing (non-constant) features by their standard deviation.\n",
        "\n",
        "After standardizing data the mean will be zero and the standard deviation one.\n",
        "\n",
        "We can use sklearn's inbuilt function which will help us to standardize our train data:\n",
        "* `StandardScaler()`"
      ]
    },
    {
      "cell_type": "code",
      "metadata": {
        "id": "ctD2nHn1wKFA",
        "colab_type": "code",
        "colab": {}
      },
      "source": [
        "####Standardize the data####################\n",
        "###Note: Do not use test data to fit your Standardscaler Model\n",
        "scaler = StandardScaler()\n",
        "scaler.fit(X_train)\n",
        "X_train = scaler.transform(X_train)\n",
        "X_test = scaler.transform(X_test)"
      ],
      "execution_count": null,
      "outputs": []
    },
    {
      "cell_type": "code",
      "metadata": {
        "id": "BgzUfFcdPIkr",
        "colab_type": "code",
        "colab": {
          "base_uri": "https://localhost:8080/",
          "height": 34
        },
        "outputId": "4cb85e40-d23c-46d6-e40b-811093a5750e"
      },
      "source": [
        "X_train.shape"
      ],
      "execution_count": null,
      "outputs": [
        {
          "output_type": "execute_result",
          "data": {
            "text/plain": [
              "(18000, 4556)"
            ]
          },
          "metadata": {
            "tags": []
          },
          "execution_count": 107
        }
      ]
    },
    {
      "cell_type": "markdown",
      "metadata": {
        "id": "R7GpTLtCUd9c",
        "colab_type": "text"
      },
      "source": [
        "### Instructor-led Discussion: Dimensionality Reduction"
      ]
    },
    {
      "cell_type": "markdown",
      "metadata": {
        "id": "1ZLbw8c1VRik",
        "colab_type": "text"
      },
      "source": [
        "Dimensionality reduction helps us find a low-dimensional representation of the data that retains as much information as possible.\n",
        "\n",
        "Principal Component Analysis (PCA) is one such technique.PCA is a technique used to emphasize variation and bring out strong patterns in a dataset. \n",
        "\n"
      ]
    },
    {
      "cell_type": "code",
      "metadata": {
        "id": "cVKY8f_V5_1C",
        "colab_type": "code",
        "colab": {}
      },
      "source": [
        "#Reduces features by maintaining 95% variance of the data\n",
        "#After doing PCA on our training data, 4556 Dimensions --->reduced to 20\n",
        "#Note: PCA is trained only on training data \n",
        "pca = PCA(.95)\n",
        "pca.fit(X_train)\n",
        "\n",
        "X_train = pca.transform(X_train)\n",
        "X_test= pca.transform(X_test)"
      ],
      "execution_count": null,
      "outputs": []
    },
    {
      "cell_type": "code",
      "metadata": {
        "id": "t3fh0Q8CPGeJ",
        "colab_type": "code",
        "colab": {}
      },
      "source": [
        "X_train.shape"
      ],
      "execution_count": null,
      "outputs": []
    },
    {
      "cell_type": "markdown",
      "metadata": {
        "id": "SV0jORxMH3w1",
        "colab_type": "text"
      },
      "source": [
        "#Milestone 3 : Applying Machine Learning to Emotion Detection"
      ]
    },
    {
      "cell_type": "markdown",
      "metadata": {
        "id": "rx3TiV9KJSSl",
        "colab_type": "text"
      },
      "source": [
        "##Activity 3a. Defining our machine learning problem"
      ]
    },
    {
      "cell_type": "markdown",
      "metadata": {
        "id": "mRmAsd_WJX7C",
        "colab_type": "text"
      },
      "source": [
        "Before we build our model, we have to identify what kind of problem it will solve and what data it's going to use. "
      ]
    },
    {
      "cell_type": "markdown",
      "metadata": {
        "id": "xNxpdkT_JZF3",
        "colab_type": "text"
      },
      "source": [
        "### Instructor-led Discussion: Machine Learning for Emotion Detection?\n"
      ]
    },
    {
      "cell_type": "markdown",
      "metadata": {
        "id": "e6PKSHcpJisw",
        "colab_type": "text"
      },
      "source": [
        "What WILL our model look like? Remember, in machine learning, we always identify inputs and outputs. Our goal is to predict outputs from inputs with either classification or regression.\n",
        "\n",
        "In classification, our output is a category (like dogs or cats).\n",
        "\n",
        "In regression, our output is a value (like 0, 0.1, 0.3, 100, ...)."
      ]
    },
    {
      "cell_type": "code",
      "metadata": {
        "id": "049tc1P6JslF",
        "colab_type": "code",
        "colab": {
          "base_uri": "https://localhost:8080/",
          "height": 68
        },
        "outputId": "69b58063-967f-43f1-ea1e-5c2155a33df7"
      },
      "source": [
        "#@title How will our model operate? { display-mode: \"form\" }\n",
        "\n",
        "#@markdown What are our inputs? \n",
        "inputs = \"distances between facial landmarks\" #@param [\"images\", \"facial landmarks\", \"distances between facial landmarks\", \"Fill Me In\"]\n",
        "\n",
        "#@markdown What are our outputs? \n",
        "outputs = \"integer encoded emotions\" #@param [\"integer encoded emotions\", \"images\", \"image edges\", \"Fill Me In\"]\n",
        "\n",
        "#@markdown What kind of problem will our AI model solve? \n",
        "problem_type  = \"classification\" #@param [\"classification\", \"regression\",\"Fill Me In\"]\n",
        "\n",
        "\n",
        "if inputs == \"distances between facial landmarks\":\n",
        "  print(\"Yes, our inputs are our distance between facial landmarks!\")\n",
        "else:\n",
        "  print('Not quite our inputs.')\n",
        "\n",
        "if outputs == \"integer encoded emotions\":\n",
        "  print(\"Yes, our outputs are integer encoded emotions!\")\n",
        "else:\n",
        "  print('Not quite our outputs.')\n",
        "  \n",
        "if problem_type == \"classification\":\n",
        "  print(\"We are trying to predict labels, therefore this is classification!\")\n",
        "else:\n",
        "  print('Not quite our problem!')"
      ],
      "execution_count": null,
      "outputs": [
        {
          "output_type": "stream",
          "text": [
            "Yes, our inputs are our distance between facial landmarks!\n",
            "Yes, our outputs are integer encoded emotions!\n",
            "We are trying to predict labels, therefore this is classification!\n"
          ],
          "name": "stdout"
        }
      ]
    },
    {
      "cell_type": "markdown",
      "metadata": {
        "id": "3ZGgfUZNJyTF",
        "colab_type": "text"
      },
      "source": [
        "## Activity 3b. Building and evaluating models\n",
        "\n",
        "\n",
        "We've tried a the KNN, Logistic Regression,Decision Tree model last week in sklearn. Establish best baseline acccuracy using either of the models today. Below, we list it with the sample parameters:\n",
        "* `knn = KNeighborsClassifier(n_neighbors = 1)`\n",
        "* `lr = LogisticRegression(solver='lbfgs',multi_class='multinomial')`\n",
        "* `dt = DecisionTreeClassifier(max_depth=1)`\n",
        "\n",
        "\n",
        "\n",
        "\n",
        "Test your models with accuracy_score on the test_data, which can be accessed through the X_test variable\n",
        "\n",
        "Try to build the best model that you can! \n",
        "\n",
        "Human accuracy for the fer2013 dataset is 65% +- 5%. Lets try getting as closer as possible!\n",
        "\n"
      ]
    },
    {
      "cell_type": "markdown",
      "metadata": {
        "id": "DqavAnDpKDqE",
        "colab_type": "text"
      },
      "source": [
        "### Exercise (Coding)     | Est Time | Within a student group\n"
      ]
    },
    {
      "cell_type": "markdown",
      "metadata": {
        "id": "yOiec1fe4G0t",
        "colab_type": "text"
      },
      "source": [
        "###Train the model"
      ]
    },
    {
      "cell_type": "code",
      "metadata": {
        "id": "3pCwBkhyKAju",
        "colab_type": "code",
        "colab": {}
      },
      "source": [
        "### YOUR CODE BELOW\n",
        "### USE AS MANY CELLS AS YOU WANT!\n",
        "### NAME YOUR MODEL as knn"
      ],
      "execution_count": null,
      "outputs": []
    },
    {
      "cell_type": "code",
      "metadata": {
        "id": "paaaxQ3lkmcV",
        "colab_type": "code",
        "colab": {}
      },
      "source": [
        "\n",
        "from sklearn.neighbors import KNeighborsClassifier\n",
        "knn = KNeighborsClassifier(n_neighbors=4)\n",
        "knn.fit(X_train, y_train)\n",
        "y_predlr = knn.predict(X_test)"
      ],
      "execution_count": null,
      "outputs": []
    },
    {
      "cell_type": "markdown",
      "metadata": {
        "id": "OnoF1kjw3wZ1",
        "colab_type": "text"
      },
      "source": [
        "###Evaluate the model"
      ]
    },
    {
      "cell_type": "code",
      "metadata": {
        "id": "2f8MO1W1sYYV",
        "colab_type": "code",
        "colab": {}
      },
      "source": [
        "### YOUR CODE BELOW\n",
        "### USE AS MANY CELLS AS YOU WANT!\n",
        "### PREDICT TEST LABELS AND SAVE THEM AS y_pred"
      ],
      "execution_count": null,
      "outputs": []
    },
    {
      "cell_type": "code",
      "metadata": {
        "id": "ZBF9FdaB1sor",
        "colab_type": "code",
        "colab": {}
      },
      "source": [
        "accuracy = metrics.accuracy_score( y_test,y_predlr)\n",
        "accuracy"
      ],
      "execution_count": null,
      "outputs": []
    },
    {
      "cell_type": "markdown",
      "metadata": {
        "id": "VJVpZmRSN2lY",
        "colab_type": "text"
      },
      "source": [
        "###Exercise 3A(Discussion) | Est Time: | Within a student group\n",
        "\n",
        "Discussion over different algorithms used for Emotion Detection!\n",
        "\n"
      ]
    },
    {
      "cell_type": "markdown",
      "metadata": {
        "id": "fVr-933j4LRC",
        "colab_type": "text"
      },
      "source": [
        "###Plot the Confusion Matrix"
      ]
    },
    {
      "cell_type": "code",
      "metadata": {
        "id": "eN0uVF7cwbGk",
        "colab_type": "code",
        "colab": {}
      },
      "source": [
        "'''\n",
        "Plots the confusion Matrix and saves it\n",
        "Pass the true labels and the predicted labels\n",
        "'''\n",
        "def plot_confusion_matrix(y_true,y_predicted):\n",
        "  cm = metrics.confusion_matrix(y_true, y_predicted)\n",
        "  print (\"Plotting the Confusion Matrix\")\n",
        "  labels = list(label_map.values())\n",
        "  df_cm = pd.DataFrame(cm,index = labels,columns = labels)\n",
        "  fig = plt.figure()\n",
        "  res = sns.heatmap(df_cm, annot=True,cmap='Blues', fmt='g')\n",
        "  plt.yticks([0.5,1.5,2.5,3.5,4.5], labels,va='center')\n",
        "  plt.title('Confusion Matrix - TestData')\n",
        "  plt.ylabel('True label')\n",
        "  plt.xlabel('Predicted label')\n",
        "  #plt.savefig(fig_name)\n",
        "  plt.show()\n",
        "  plt.close()\n",
        "\n",
        " \n"
      ],
      "execution_count": null,
      "outputs": []
    },
    {
      "cell_type": "code",
      "metadata": {
        "id": "_7BrfLuF7Q4X",
        "colab_type": "code",
        "colab": {
          "base_uri": "https://localhost:8080/",
          "height": 312
        },
        "outputId": "7240111b-ac3c-4521-95c2-e3c35f2d196b"
      },
      "source": [
        "plot_confusion_matrix(y_test,y_predlr)"
      ],
      "execution_count": null,
      "outputs": [
        {
          "output_type": "stream",
          "text": [
            "Plotting the Confusion Matrix\n"
          ],
          "name": "stdout"
        },
        {
          "output_type": "display_data",
          "data": {
            "image/png": "[encoded data removed]",
            "text/plain": [
              "<Figure size 432x288 with 2 Axes>"
            ]
          },
          "metadata": {
            "tags": [],
            "needs_background": "light"
          }
        }
      ]
    },
    {
      "cell_type": "code",
      "metadata": {
        "id": "HIi_CoX6z36V",
        "colab_type": "code",
        "colab": {
          "base_uri": "https://localhost:8080/",
          "height": 34
        },
        "outputId": "7e7856c3-5fd8-4a56-82ac-af19ed6ecfa9"
      },
      "source": [
        ""
      ],
      "execution_count": null,
      "outputs": [
        {
          "output_type": "execute_result",
          "data": {
            "text/plain": [
              "0.4715"
            ]
          },
          "metadata": {
            "tags": []
          },
          "execution_count": 68
        }
      ]
    },
    {
      "cell_type": "markdown",
      "metadata": {
        "id": "7iyM_SREPTbE",
        "colab_type": "text"
      },
      "source": [
        "####Exercise (Discussion) | Est Time: | Within a student group"
      ]
    },
    {
      "cell_type": "code",
      "metadata": {
        "id": "cVsJs_arPTnR",
        "colab_type": "code",
        "cellView": "form",
        "colab": {}
      },
      "source": [
        "#@title Take a look at your confusion Matrix and answer the following questions\n",
        "\n",
        "#@markdown Name most correctly classified emotion? \n",
        "correct_emotion = \"Surprise\"#@param [\"Anger\",\"Happy\",\"Sad\",\"Surprise\",\"Fill Me In\"] \n",
        "\n",
        "#@markdown Name most incorrectly classified emotion? \n",
        "incorrect_emotion = \"Sad\"#@param [\"Anger\",\"Happy\",\"Sad\",\"Surprise\",\"Fill Me In\"] \n",
        "\n",
        "#@markdown Sad Emotion is highly misclassified as?\n",
        "sad_misclassify =\"Anger\"#@param [\"Anger\",\"Happy\",\"Sad\",\"Surprise\",\"Fill Me In\"] \n",
        "\n",
        "#@markdown Neutral Emotion is highly misclassified as?\n",
        "neutral_misclassify =\"Sad\"#@param [\"Anger\",\"Happy\",\"Sad\",\"Surprise\",\"Fill Me In\"] \n",
        "\n",
        "\n",
        "#@markdown Angry Emotion is highly misclassified as?\n",
        "angry_misclassify =\"Happy\"#@param [\"Anger\",\"Happy\",\"Sad\",\"Surprise\",\"Fill Me In\"] \n",
        "\n"
      ],
      "execution_count": null,
      "outputs": []
    },
    {
      "cell_type": "markdown",
      "metadata": {
        "id": "g0dNBYIPI2-c",
        "colab_type": "text"
      },
      "source": [
        "#Milestone 4: Coding Exercise\n",
        "\n"
      ]
    },
    {
      "cell_type": "markdown",
      "metadata": {
        "id": "GolaaB1-tvBC",
        "colab_type": "text"
      },
      "source": [
        "We performed feature generation and extraction process in the previous sections. Now train your best model from Section 3 again with actual pixels of the images with standardization.\n",
        "\n",
        "####Report and Comment over the result!"
      ]
    },
    {
      "cell_type": "code",
      "metadata": {
        "id": "zqMKoYD0Ib9L",
        "colab_type": "code",
        "colab": {}
      },
      "source": [
        "#Load the true pixel data and corresponding labels\n",
        "X = np.load('pureX.npy')\n",
        "#X = X.reshape(len(X),-1)\n",
        "#X = pureX\n",
        "Y = np.load('dataY.npy')"
      ],
      "execution_count": null,
      "outputs": []
    },
    {
      "cell_type": "code",
      "metadata": {
        "id": "WatuJy48Qe__",
        "colab_type": "code",
        "colab": {}
      },
      "source": [
        "###YOUR CODE HERE\n",
        "dt = DecisionTreeClassifier(max_depth=20)\n",
        "print (\"Training the Decision Tree model\")\n",
        "dt.fit(X_train, y_train)\n",
        "print (\"Completed Decision Tree Training\")\n",
        "\n",
        "#######Evaluate the model##################\n",
        "\n",
        "print (\"Predict for Decision Tree Model\")\n",
        "y_preddt = dt.predict(X_test)\n",
        "print (\"Test Accuracy(DT):\",metrics.accuracy_score(y_test, y_preddt))\n",
        "\n",
        "\n",
        "#-----------------Logistic Regression--------------#\n",
        "#######Train the model##################\n",
        "lr = LogisticRegression(solver='lbfgs',multi_class='multinomial')\n",
        "print (\"Training the Logistic Regression model\")\n",
        "lr.fit(X_train, y_train)\n",
        "print (\"Completed LR Training\")\n",
        "\n",
        "#######Evaluate the model##################\n",
        "# they might use accuracy_score\n",
        "#This cell will take longer to run(5-10mins)!\n",
        "print (\"Predict for LR Model\")\n",
        "y_predlr = lr.predict(X_test)\n",
        "print (\"Test Accuracy(LR):\",metrics.accuracy_score(y_test, y_predlr))\n"
      ],
      "execution_count": null,
      "outputs": []
    },
    {
      "cell_type": "markdown",
      "metadata": {
        "id": "jTI1-quUzf96",
        "colab_type": "text"
      },
      "source": [
        "#Finish!"
      ]
    },
    {
      "cell_type": "code",
      "metadata": {
        "id": "lfM0GGKm1FMQ",
        "colab_type": "code",
        "colab": {}
      },
      "source": [
        "# extract images as vectors, convert from strings to ints -- this is called a \"list comprihension\" \n",
        "x_image = np.array( [np.fromstring(df['pixels'][i], dtype=np.uint8, sep=\" \") for i in range(len(df))] ) \n",
        "\n",
        "# extract labels in the same way--through a list comprehension\n",
        "y_image = np.array( [df['emotion'][i] for i in range(len(df)) ])\n",
        "\n",
        "# generate train-test (90/10) splits\n",
        "X_train, X_test, y_train, y_test = train_test_split(x_image, y_image, test_size=0.1,random_state=42)\n",
        "\n",
        "# define the model\n",
        "knn = KNeighborsClassifier(n_neighbors=10)\n",
        "\n",
        "# train \n",
        "print (\"training knn model ...\")\n",
        "knn.fit(X_train, y_train)\n",
        "\n",
        "# test\n",
        "print (\"Predict for KNN Model\")\n",
        "y_pred_knn = knn.predict(X_test)\n",
        "\n",
        "# display results\n",
        "print (\"KNN Test Accuracy on raw image inputs:\", metrics.accuracy_score(y_test, y_pred_knn))"
      ],
      "execution_count": null,
      "outputs": []
    }
  ]
}