{
  "nbformat": 4,
  "nbformat_minor": 0,
  "metadata": {
    "colab": {
      "name": "Part 3",
      "provenance": [],
      "collapsed_sections": [],
      "include_colab_link": true
    },
    "kernelspec": {
      "name": "python3",
      "display_name": "Python 3"
    },
    "accelerator": "GPU"
  },
  "cells": [
    {
      "cell_type": "markdown",
      "metadata": {
        "id": "view-in-github",
        "colab_type": "text"
      },
      "source": [
        "<a href=\"https://colab.research.google.com/github/allenye66/EmotionDetection/blob/master/Part_3.ipynb\" target=\"_parent\"><img src=\"https://colab.research.google.com/assets/colab-badge.svg\" alt=\"Open In Colab\"/></a>"
      ]
    },
    {
      "cell_type": "code",
      "metadata": {
        "id": "Qhr-G_92H2Bc",
        "colab_type": "code",
        "colab": {
          "base_uri": "https://localhost:8080/",
          "height": 34
        },
        "outputId": "f85a0d51-cfb8-45a8-80a1-ef7d5232bf43"
      },
      "source": [
        "#@title Run this to download data and prepare our environment!  { display-mode: \"form\" }\n",
        "\n",
        "import cv2\n",
        "import dlib\n",
        "import pickle\n",
        "import warnings\n",
        "import numpy as np\n",
        "import pandas as pd\n",
        "import seaborn as sns\n",
        "\n",
        "import urllib.request\n",
        "\n",
        "from sklearn import metrics\n",
        "from scipy.spatial import distance\n",
        "from sklearn.metrics import accuracy_score\n",
        "from matplotlib import pyplot as plt\n",
        "from tqdm import tqdm,tqdm_pandas\n",
        "from sklearn.preprocessing import StandardScaler\n",
        "from sklearn.model_selection import train_test_split\n",
        "\n",
        "import re\n",
        "import gdown\n",
        "import keras\n",
        "\n",
        "from keras.models import Sequential\n",
        "from keras.utils import to_categorical\n",
        "from keras.optimizers import adam\n",
        "from keras.layers import Dense, Dropout, Activation, Flatten\n",
        "from keras.layers import Conv2D, MaxPooling2D, BatchNormalization\n",
        "from keras.losses import categorical_crossentropy\n",
        "from keras.optimizers import Adam, SGD\n",
        "from keras.regularizers import l2\n",
        "from keras.callbacks import EarlyStopping, ModelCheckpoint\n",
        "from keras.models import load_model\n",
        "\n",
        "# grab tools from our tensorflow and keras toolboxes!\n",
        "import tensorflow as tf\n",
        "from keras.models import Sequential\n",
        "from keras.layers import Activation, Dropout, Flatten, Dense\n",
        "from keras import optimizers\n",
        "\n",
        "warnings.filterwarnings(\"ignore\")\n",
        "def model_to_string(model):\n",
        "    import re\n",
        "    stringlist = []\n",
        "    model.summary(print_fn=lambda x: stringlist.append(x))\n",
        "    sms = \"\\n\".join(stringlist)\n",
        "    sms = re.sub('_\\d\\d\\d','', sms)\n",
        "    sms = re.sub('_\\d\\d','', sms)\n",
        "    sms = re.sub('_\\d','', sms)  \n",
        "    return sms\n",
        "\n",
        "###Getting the csv data loaded\n",
        "\n",
        "dataset_url = 'https://drive.google.com/uc?id=1xFiYsULlQWWmi2Ai0fHjtApniP5Pscuf'\n",
        "dataset_path = './ferdata.csv'\n",
        "gdown.download(dataset_url, dataset_path, True)\n",
        "\n",
        "###Getting the Dlib Shape predictor!\n",
        "\n",
        "dlibshape_url = 'https://drive.google.com/uc?id=17D3D89Gke6i5nKOvmsbPslrGg5rVgOwg'\n",
        "dlibshape_path ='./shape_predictor_68_face_landmarks.dat'\n",
        "gdown.download(dlibshape_url, dlibshape_path, True)\n",
        "\n",
        "###Getting the Xpure loaded\n",
        "\n",
        "pureX_url = 'https://drive.google.com/uc?id=1CglpXodenZVrkaZehLtfykfQv8dcnfO9'\n",
        "pureX_path = './pureX.npy'\n",
        "gdown.download(pureX_url, pureX_path,True)\n",
        "\n",
        "###Getting the Xdata loaded\n",
        "\n",
        "dataX_url = 'https://drive.google.com/uc?id=1sIJGxUM6rNBcWxucs6iynDepeKU1Q56p'\n",
        "dataX_path = './dataX.npy'\n",
        "gdown.download(dataX_url, dataX_path, True)\n",
        "\n",
        "\n",
        "###Getting the Ydata loaded\n",
        "\n",
        "dataY_url = 'https://drive.google.com/uc?id=1Rfr0OP-hZO_UZfuOyMNR2RjNRAro85zE'\n",
        "dataY_path = './dataY.npy'\n",
        "gdown.download(dataY_url, dataY_path, True)\n",
        "\n",
        "\n",
        "print (\"Data Downloaded!\")\n",
        "\n",
        "\n",
        "'''\n",
        "Plots the confusion Matrix and saves it\n",
        "'''\n",
        "def plot_confusion_matrix(y_true,y_predicted):\n",
        "  cm = metrics.confusion_matrix(y_true, y_predicted)\n",
        "  print (\"Plotting the Confusion Matrix\")\n",
        "  labels = list(label_map.values())\n",
        "  df_cm = pd.DataFrame(cm,index = labels,columns = labels)\n",
        "  fig = plt.figure()\n",
        "  res = sns.heatmap(df_cm, annot=True,cmap='Blues', fmt='g')\n",
        "  plt.yticks([0.5,1.5,2.5,3.5,4.5], labels,va='center')\n",
        "  plt.title('Confusion Matrix - TestData')\n",
        "  plt.ylabel('True label')\n",
        "  plt.xlabel('Predicted label')\n",
        " \n",
        "  plt.show()\n",
        "  plt.close()\n",
        "\n",
        "def plot_graphs(history, best):\n",
        "  \n",
        "  plt.figure(figsize=[10,4])\n",
        "  # summarize history for accuracy\n",
        "  plt.subplot(121)\n",
        "  #plt.plot(history.history['acc'])\n",
        "  plt.plot(history.history['val_acc'])\n",
        "  plt.title('model accuracy across training\\n best accuracy of %.02f'%best[1])\n",
        "  plt.ylabel('accuracy')\n",
        "  plt.xlabel('epoch')\n",
        "  plt.legend(['train', 'test'], loc='upper left')\n",
        "  \n",
        "  # summarize history for loss\n",
        "  plt.subplot(122)\n",
        "  plt.plot(history.history['loss'])\n",
        "  plt.plot(history.history['val_loss'])\n",
        "  plt.title('model loss across training\\n best loss of %.02f'%best[0])\n",
        "  plt.ylabel('loss')\n",
        "  plt.xlabel('epoch')\n",
        "  plt.legend(['train', 'test'], loc='upper left')\n",
        "  plt.show()\n",
        "\n",
        "#Integer to Label Mapping\n",
        "label_map = {\"0\":\"ANGRY\",\"1\":\"HAPPY\",\"2\":\"SAD\",\"3\":\"SURPRISE\",\"4\":\"NEUTRAL\"}\n",
        "\n",
        "\n",
        "#Load the 68 face Landmark file\n",
        "predictor = dlib.shape_predictor('./shape_predictor_68_face_landmarks.dat')\n",
        "\"\"\"\n",
        "Returns facial landmarks for the given input image path\n",
        "\"\"\"\n",
        "def get_landmarks(image):\n",
        "  \n",
        "  \n",
        "  #:type image : cv2 object\n",
        "  #:rtype landmarks : list of tuples where each tuple represents \n",
        "  #                  the x and y co-ordinates of facial keypoints\n",
        "  \n",
        "  #Bounding Box co-ordinates around the face(Training data is 48*48(cropped faces))\n",
        "  rects = [dlib.rectangle(left=1, top=1, right=47, bottom=47)]\n",
        "\n",
        "  #Read Image using OpenCV\n",
        "  #image = cv2.imread(image_path)\n",
        "  #Detect the Faces within the image\n",
        "  landmarks = [(p.x, p.y) for p in predictor(image, rects[0]).parts()]\n",
        "  return image,landmarks\n",
        "\n",
        "\"\"\"\n",
        "Display image with its Facial Landmarks\n",
        "\"\"\"\n",
        "def image_landmarks(image,face_landmarks):\n",
        "  \"\"\"\n",
        "  :type image_path : str\n",
        "  :type face_landmarks : list of tuples where each tuple represents \n",
        "                     the x and y co-ordinates of facial keypoints\n",
        "  :rtype : None\n",
        "  \"\"\"\n",
        "  radius = -4\n",
        "  circle_thickness = 1\n",
        "  image_copy = image.copy()\n",
        "  for (x, y) in face_landmarks:\n",
        "    cv2.circle(image_copy, (x, y), circle_thickness, (255,0,0), radius)\n",
        "    \n",
        "  plt.imshow(image_copy, interpolation='nearest')\n",
        "  plt.show()\n",
        "  \n",
        "\"\"\"\n",
        "Computes euclidean distance between 68 Landmark Points for our features\n",
        "e_dist is a list of features that will go into our model.\n",
        "Each feature is a distance between two landmark points, and every pair of points\n",
        "must have a feature.\n",
        "\"\"\"\n",
        "  \n",
        "def landmarks_edist(face_landmarks):\n",
        "    e_dist = []\n",
        "    for i in range(len(face_landmarks)):\n",
        "        for j in range(len(face_landmarks)):\n",
        "            if i!= j:\n",
        "                e_dist.append(distance.euclidean(face_landmarks[i],face_landmarks[j]))\n",
        "    return e_dist\n",
        "  \n",
        "def compare_learning(mlp, lm, cnn, vgg): # there's one model missing: MLP from pixels\n",
        "  \n",
        "  # summarize history for accuracy\n",
        "  plt.plot(vgg.history['val_acc'],)\n",
        "  plt.plot(cnn.history['val_acc'])\n",
        "  plt.plot(mlp.history['val_acc'],)\n",
        "  plt.plot(lm.history['val_acc'])\n",
        "  plt.ylabel('validitation accuracy')\n",
        "  plt.xlabel('epoch')\n",
        "  plt.legend(['cnn_transfer', 'cnn_scratch', 'mlp_pixels', 'mlp_landmarks'], bbox_to_anchor=[1,1])\n",
        "  plt.xticks(range(0, epochs+1, 5), range(0, epochs+1, 5))\n",
        "  plt.show()\n"
      ],
      "execution_count": 26,
      "outputs": [
        {
          "output_type": "stream",
          "text": [
            "Data Downloaded!\n"
          ],
          "name": "stdout"
        }
      ]
    },
    {
      "cell_type": "markdown",
      "metadata": {
        "id": "xq10yh_OuVlg",
        "colab_type": "text"
      },
      "source": [
        "#Understanding and building Neural Networks"
      ]
    },
    {
      "cell_type": "markdown",
      "metadata": {
        "id": "OOfhabJ_4hvE",
        "colab_type": "text"
      },
      "source": [
        "A neural network is a series of algorithms that endeavors to recognize underlying relationships in a set of data through a process that mimics the way the human brain operates. Basically, neural network algorithm helps computers think and learn like humans.\n",
        "\n",
        "The whole idea of artificial neural network is based on the concept of the structure and functions of a human brain. A human brain consists of neurons that process and transmit information between themselves."
      ]
    },
    {
      "cell_type": "markdown",
      "metadata": {
        "id": "4DcLenvXu7th",
        "colab_type": "text"
      },
      "source": [
        "### Why try neural networks?"
      ]
    },
    {
      "cell_type": "markdown",
      "metadata": {
        "id": "s77Fm2CbvZi7",
        "colab_type": "text"
      },
      "source": [
        "Our Baseline model performed at ~50 %\n",
        "\n",
        "Human accuracy for fer2013 is around 65 %, suggesting that we could do better!\n",
        "\n",
        "What we require now is a model that can capture more complicated patterns. One class of models that is able to do this and has been very effective for doing this for images are neural networks. \n",
        "\n",
        "\n",
        "### What are neural networks?\n"
      ]
    },
    {
      "cell_type": "markdown",
      "metadata": {
        "id": "ZB_uPibnv2UG",
        "colab_type": "text"
      },
      "source": [
        "## Instructor-Led Discussion: Building networks\n",
        "\n",
        "To build neural networks in Python, we use the packages known as `tensorflow` and `keras`. Let's learn how to build and use these networks!\n",
        "\n",
        "Tensorflow calls the various machine learning algorithms that it uses 'models'.  These 'models' are 'learning machines.''\n",
        "\n",
        "1. We **teach** models by **training** them on **data**. \n",
        "2. We **use** models to **predict** things. \n",
        "\n",
        "Here is example code for building a Tensorflow model with Keras:"
      ]
    },
    {
      "cell_type": "markdown",
      "metadata": {
        "id": "RUtJ7_FkkPr-",
        "colab_type": "text"
      },
      "source": [
        "The things you'll want to pay most attention to as we go over how to build networks are: \n",
        "1. The number of neurons\n",
        "2. The activation of the neurons\n",
        "3. The losses and metrics\n",
        "\n",
        "Everything else will work with the default settings!\n",
        "\n",
        "Let's walk though what each of these lines of code means!\n",
        "\n",
        "**1. Specify model**\n",
        "\n",
        "```\n",
        "model = Sequential()\n",
        "```\n",
        "In this line of code, we build our network where the information flows from LEFT to RIGHT through the network in ONE DIRECTION as opposed to multiple directions. Neurons on the right never pass informations to neurons on the left of it. \n",
        "\n",
        "\n",
        "**2. Add layers to the network**\n",
        "```\n",
        "model.add(Dense(4,input_shape = (3,), activation = 'sigmoid'))\n",
        "```\n",
        "In this code, we `add` a `layer` of neurons to our network. \n",
        "\n",
        "This layers consists of 4 neurons. Each neuron is DENSE and connects to all of the previous layer's inputs and all of the subsequent layers outputs. We specify that there are 3 inputs here.\n",
        "\n",
        "We also specify what kind of output the neuron will give. If you want the neuron to output a number between 0 and 1 (like a probability!) you would use 'softmax' or 'sigmoid'. If you want the neuron to output any number, you can use 'linear'! You'll also often see 'relu', which is when a neuron will only output positive numbers. \n",
        "\n",
        "```\n",
        "model.add(Dense(1, activation = 'linear'))\n",
        "```\n",
        "This code adds ANOTHER layer to the network that has 1 neuron. This one neuron is used to predict a continuous value!\n",
        "\n",
        "```\n",
        "```\n",
        "\n",
        "**3. Turn the model on by compiling it** \n",
        "\n",
        "After having built the network, we want to train and use it, so we have to 'turn it on' and 'compile' it. To turn it on, we have to specify at the very least, a loss, an optimizer, and some ways of evaluating the model (metrics). Don't worry too much about what this means! Just know that this is necessary. \n",
        "\n",
        "```\n",
        "model.compile(loss='mean_squared_error',\n",
        "optimizer = 'adam',\n",
        "metrics = ['mean_squared_error'])\n",
        "  ```\n",
        "  \n",
        "  Once we've created our network, we can use it very simply! Just like we did with sklearn, we define our input data (x), the true predictions from that data (y), and then train our model with `fit`. \n",
        "\n",
        "```\n",
        "model.fit(x, y)\n",
        "```\n",
        "\n",
        "To use the model, you can use it to predict something with:\n",
        "```\n",
        "y = model.predict_classes(x)\n",
        "```\n",
        "\n"
      ]
    },
    {
      "cell_type": "markdown",
      "metadata": {
        "id": "CrW6KxLy8Ox3",
        "colab_type": "text"
      },
      "source": [
        "### For reference, this is a lot like the kind of models we've been training with scikit learn.\n",
        "\n",
        "The big difference is that defining the model is more involved. We can look at an example from KNN: \n",
        "\n",
        "```\n",
        "# define the model instance \n",
        "knn = KNeighborsClassifier()\n",
        "\n",
        "# train model with X_train\n",
        "knn.fit(X_train, y_train) \n",
        "\n",
        "# predict testing data\n",
        "y_predict = knn.predict(X_test)\n",
        "\n",
        "```"
      ]
    },
    {
      "cell_type": "markdown",
      "metadata": {
        "id": "YJXxWYXcwoGn",
        "colab_type": "text"
      },
      "source": [
        "##Exercise: Coding a 2 hidden layer MLP\n",
        "\n",
        "```\n",
        "```\n",
        "\n",
        "Just as we went over last week, neural networks look something like this: \n",
        "\n",
        "```\n",
        "```\n",
        "\n",
        "![A 2 layer neural network](https://cdn-images-1.medium.com/max/1600/1*DW0Ccmj1hZ0OvSXi7Kz5MQ.jpeg)\n",
        "\n",
        "```\n",
        "```\n",
        "\n",
        "Each orange and blue node is a neuron. The network itself is composed of a bunch of neurons that talk to each other and eventually give us a prediction. Let's get a bit more concrete with this..."
      ]
    },
    {
      "cell_type": "markdown",
      "metadata": {
        "id": "2MamYyRf16Ii",
        "colab_type": "text"
      },
      "source": [
        "### How can we build this network above? Fill in the ___ 's below "
      ]
    },
    {
      "cell_type": "code",
      "metadata": {
        "id": "g1FadMwUkOwV",
        "colab_type": "code",
        "colab": {}
      },
      "source": [
        "# First, we initialize our model\n",
        "tmp_model = Sequential()\n",
        "# then we add a \"Dense\" (i.e. fully connected) layer\n",
        "tmp_model.add(Dense(7, input_shape=(5,), activation = 'relu')) # for the first layer we specify the input dimensions \n",
        "# then we have to add another layer \n",
        "tmp_model.add(Dense(7, activation = 'relu'))\n",
        "# we end by defining the output layer, which has the number of dimensions of the predictions we're making\n",
        "tmp_model.add(Dense(4, activation = 'linear'))\n",
        "# we finalize the model by \"compiling\" it and defining some other hyperparameters \n",
        "tmp_model.compile(loss='mean_squared_error', optimizer='adam', metrics=['mean_squared_error'])"
      ],
      "execution_count": 3,
      "outputs": []
    },
    {
      "cell_type": "markdown",
      "metadata": {
        "id": "-rrqPkJWVLOY",
        "colab_type": "text"
      },
      "source": [
        "## Exercise: Building our custom neural network"
      ]
    },
    {
      "cell_type": "markdown",
      "metadata": {
        "id": "25DoFvA0VWnq",
        "colab_type": "text"
      },
      "source": [
        "###Keypoints"
      ]
    },
    {
      "cell_type": "markdown",
      "metadata": {
        "id": "tchJVYOTVZAh",
        "colab_type": "text"
      },
      "source": [
        "We will build a simple 3-layer network for our first model!\n",
        "\n",
        "\n",
        "For our model, we have as our layers: \n",
        "* Input Layer:  However many inputs there are!\n",
        "* Layer 1 (Hidden): 1024 neurons that are activated by `'relu'` and weights are intialized using '`kernel_initializer='glorot_normal'`. Specify the input shape as `(4556,)`.\n",
        "* Layer 2 (Hidden): 512 neurons that are activated by `'relu'` and weights are intialized using '`kernel_initializer='glorot_normal'`\n",
        "* Layer 3 (Output): 5 neuron that should have an appropriate activation. \n",
        "* We will compile with the `optimizers.SGD(lr=0.001)` optimizer\n",
        "\n",
        "As a hint for the output activation and the compilation loss, we know that:\n",
        "* Multi-class classification problems require an output activation of `'softmax'` and a loss of `'categorical_crossentropy'`\n",
        "\n",
        "\n"
      ]
    },
    {
      "cell_type": "markdown",
      "metadata": {
        "id": "sv3U4FxbVyfs",
        "colab_type": "text"
      },
      "source": [
        "###Build your Model"
      ]
    },
    {
      "cell_type": "code",
      "metadata": {
        "id": "WJh4klMtV3Q_",
        "colab_type": "code",
        "colab": {}
      },
      "source": [
        "perceptron = Sequential()\n",
        "# then we add a \"Dense\" (i.e. fully connected) layer\n",
        "perceptron.add(Dense(1024, kernel_initializer=\"glorot_normal\", input_shape=(4556,), activation = 'relu')) # for the first layer we specify the input dimensions \n",
        "# then we have to add another layer \n",
        "perceptron.add(Dense(512, kernel_initializer=\"glorot_normal\", activation = 'relu'))\n",
        "# we end by defining the output layer, which has the number of dimensions of the predictions we're making\n",
        "perceptron.add(Dense(5, activation = 'softmax'))\n",
        "# we finalize the model by \"compiling\" it and defining some other hyperparameters \n",
        "perceptron.compile(loss='categorical_crossentropy', optimizer= optimizers.SGD(lr=0.001), metrics=['categorical_crossentropy'])"
      ],
      "execution_count": 4,
      "outputs": []
    },
    {
      "cell_type": "code",
      "metadata": {
        "id": "rWDzNTh9Wm0e",
        "colab_type": "code",
        "colab": {}
      },
      "source": [
        " #@title Run this to test if your model is right! { display-mode: \"form\" }\n",
        "# perceptron_answer = Sequential()\n",
        "# perceptron_answer.add(Dense(units = 1024, input_shape = (4556,),kernel_initializer='glorot_normal',activation = 'relu'))\n",
        "# perceptron_answer.add(Dense(units = 512,kernel_initializer='glorot_normal' , activation = 'relu'))\n",
        "# perceptron_answer.add(Dense(units = 5, activation = 'softmax'))\n",
        "    \n",
        "# perceptron_answer.compile(loss='categorical_crossentropy',\n",
        "#               optimizer=SGD(lr=0.001),\n",
        "#               metrics=['accuracy'])\n",
        "\n",
        "# if model_to_string(perceptron) == model_to_string(perceptron_answer):\n",
        "#   print('Good job, you specified it correctly!')\n",
        "# else: \n",
        "#   print('Please check your code again!')"
      ],
      "execution_count": 5,
      "outputs": []
    },
    {
      "cell_type": "markdown",
      "metadata": {
        "id": "6bbdW8Cm-iti",
        "colab_type": "text"
      },
      "source": [
        "###Keras Neural Network Model"
      ]
    },
    {
      "cell_type": "markdown",
      "metadata": {
        "id": "AgQEGSXJueyV",
        "colab_type": "text"
      },
      "source": [
        "Neural Network performance depends a lot on *how much* they train. As we'll see, they usually get better with more training BUT actually can get worse with too much training. With too much training, our model can get overconfident in its abilities with the training manual (overfitting), and so doesn't actually think (generalize) when it is tested. \n",
        "\n",
        "The  `fit()` function pertain to how the neural networks train. Don't worry too much about the extra options, what really matters for us is that the right data is specified.\n",
        "\n",
        "\n",
        "What are all these options?\n",
        "* `epochs`: how many times the model trains on the entire data set\n",
        "* `batch_size`: number of samples processed at a time\n",
        "* `shuffle`: mixes the training dataset so the model pays better attention to the data and learns better while training\n",
        "* `validation_data`: we request that our model tests itself on the `test_data` after every epoch. **It is essential to use validation data to test for overfitting!**\n",
        "* `callbacks`: With a custom command, we tell our model to save the best version of itself to a model file called `best_dnn_model.h5`. \n"
      ]
    },
    {
      "cell_type": "markdown",
      "metadata": {
        "id": "oeb1iFnZw3W1",
        "colab_type": "text"
      },
      "source": [
        "#Applying Neural Networks (MLPs) to predicting emotions"
      ]
    },
    {
      "cell_type": "markdown",
      "metadata": {
        "id": "pf4GspMjAGoE",
        "colab_type": "text"
      },
      "source": [
        "First, let's try to build a 4-Layer Neural Network  for our training data to achieve accuracy closer to the human accuracy on the dataset (around 65%)\n",
        "\n",
        "```\n",
        "\n",
        "```\n",
        "\n",
        " We want to identify the key things that we need to design our network. \n",
        "\n",
        "In your group, discuss: \n",
        "\n",
        "* What are our inputs?\n",
        "* What is/are our outputs?\n",
        "\n",
        "How could this look in a neural network diagram?\n",
        "\n",
        "**Show your instructor your diagram once you're done!!**"
      ]
    },
    {
      "cell_type": "markdown",
      "metadata": {
        "id": "G-hJkIeQthKl",
        "colab_type": "text"
      },
      "source": [
        "##Activity: Train Neural Network on Emotion Dataset"
      ]
    },
    {
      "cell_type": "markdown",
      "metadata": {
        "id": "LDZqO4EMHeSZ",
        "colab_type": "text"
      },
      "source": [
        "###set some hyper parameters for all models"
      ]
    },
    {
      "cell_type": "code",
      "metadata": {
        "id": "284_6dNsHiS5",
        "colab_type": "code",
        "colab": {}
      },
      "source": [
        "# the number of times we pass all the training data through the model \n",
        "epochs = 20\n",
        "# the number of examples we pass to the model at each time\n",
        "batch_size = 64\n",
        "# the proportion of testing data we set aside (e.g. 10%)\n",
        "test_ratio = .1\n",
        "# the number of emotion categories we have to predict\n",
        "n_labels = 5 "
      ],
      "execution_count": 7,
      "outputs": []
    },
    {
      "cell_type": "markdown",
      "metadata": {
        "id": "gNJx9QCE8w8p",
        "colab_type": "text"
      },
      "source": [
        "###Load the original (unprocessed) data saved on Day 2!"
      ]
    },
    {
      "cell_type": "code",
      "metadata": {
        "id": "oG7AIjf3xWBa",
        "colab_type": "code",
        "colab": {}
      },
      "source": [
        "# load data \n",
        "dataX_pixels = np.load('pureX.npy')\n",
        "dataY_pixels = np.load('dataY.npy')"
      ],
      "execution_count": 8,
      "outputs": []
    },
    {
      "cell_type": "markdown",
      "metadata": {
        "id": "7y6HwMAg85jx",
        "colab_type": "text"
      },
      "source": [
        "### convert labels to one-hot encoded labels\n",
        "\n",
        "One hot encoding is a representation of categorical variables as binary vectors"
      ]
    },
    {
      "cell_type": "code",
      "metadata": {
        "id": "qA_0acGq9AJN",
        "colab_type": "code",
        "colab": {}
      },
      "source": [
        "# convert labels to one hot encoding\n",
        "y_onehot = keras.utils.to_categorical(dataY_pixels, len(set(dataY_pixels)))\n",
        "\n",
        "# what does this data type look like? "
      ],
      "execution_count": 12,
      "outputs": []
    },
    {
      "cell_type": "code",
      "metadata": {
        "id": "iJeuXajkmqnG",
        "colab_type": "code",
        "colab": {
          "base_uri": "https://localhost:8080/",
          "height": 34
        },
        "outputId": "ac39b15e-cb6e-4651-a380-b85e55bb7571"
      },
      "source": [
        "print( dataY_pixels ) "
      ],
      "execution_count": 16,
      "outputs": [
        {
          "output_type": "stream",
          "text": [
            "[0 4 4 ... 0 2 0]\n"
          ],
          "name": "stdout"
        }
      ]
    },
    {
      "cell_type": "code",
      "metadata": {
        "id": "_b6atOMsmuCU",
        "colab_type": "code",
        "colab": {
          "base_uri": "https://localhost:8080/",
          "height": 136
        },
        "outputId": "e5ea18b1-2961-451d-c04d-770c94aa37b3"
      },
      "source": [
        "print( y_onehot ) "
      ],
      "execution_count": 15,
      "outputs": [
        {
          "output_type": "stream",
          "text": [
            "[[1. 0. 0. 0. 0.]\n",
            " [0. 0. 0. 0. 1.]\n",
            " [0. 0. 0. 0. 1.]\n",
            " ...\n",
            " [1. 0. 0. 0. 0.]\n",
            " [0. 0. 1. 0. 0.]\n",
            " [1. 0. 0. 0. 0.]]\n"
          ],
          "name": "stdout"
        }
      ]
    },
    {
      "cell_type": "code",
      "metadata": {
        "id": "a-LTjtaknAqa",
        "colab_type": "code",
        "cellView": "form",
        "colab": {}
      },
      "source": [
        "#@title Is it clear how these are to equavalent ways to represent the target?\n"
      ],
      "execution_count": 17,
      "outputs": []
    },
    {
      "cell_type": "markdown",
      "metadata": {
        "id": "1RodV9eQ71Yz",
        "colab_type": "text"
      },
      "source": [
        "###Split and Standardize your Data\n",
        "\n"
      ]
    },
    {
      "cell_type": "code",
      "metadata": {
        "id": "cVO4wnTY7rRk",
        "colab_type": "code",
        "colab": {}
      },
      "source": [
        "# split Data into Train, Test (90-10)\n",
        "X_train, X_test, y_train, y_test = train_test_split(dataX_pixels, y_onehot, test_size=test_ratio, random_state=42)\n",
        "\n",
        "#### Standardize the data ##########\n",
        "pixel_scaler = StandardScaler()\n",
        "pixel_scaler.fit(X_train)\n",
        "X_train = pixel_scaler.transform(X_train)\n",
        "X_test = pixel_scaler.transform(X_test)"
      ],
      "execution_count": 20,
      "outputs": []
    },
    {
      "cell_type": "markdown",
      "metadata": {
        "id": "iaQQkwNsHGSM",
        "colab_type": "text"
      },
      "source": [
        "## Exercise: Build a simple MLP for emotion detection"
      ]
    },
    {
      "cell_type": "code",
      "metadata": {
        "id": "QBk3kFJSgQJ0",
        "colab_type": "code",
        "cellView": "both",
        "colab": {}
      },
      "source": [
        "mlp_model = Sequential()\n",
        "mlp_model.add(Dense(1024, kernel_initializer=\"glorot_normal\", input_shape=(2304,), activation = 'relu')) # for the first layer we specify the input dimensions \n",
        "# then we have to add another layer \n",
        "mlp_model.add(Dense(512, kernel_initializer=\"glorot_normal\", activation = 'relu'))\n",
        "# we end by defining the output layer, which has the number of dimensions of the predictions we're making\n",
        "mlp_model.add(Dense(5, activation = 'softmax'))\n",
        "# we finalize the model by \"compiling\" it and defining some other hyperparameters \n",
        "mlp_model.compile(loss='categorical_crossentropy', optimizer= optimizers.SGD(lr=0.001), metrics=['categorical_crossentropy'])"
      ],
      "execution_count": 22,
      "outputs": []
    },
    {
      "cell_type": "code",
      "metadata": {
        "id": "IwYofcaXzWVa",
        "colab_type": "code",
        "colab": {
          "base_uri": "https://localhost:8080/",
          "height": 714
        },
        "outputId": "e6cb7d89-82fa-4e5a-ba75-928996bce9ca"
      },
      "source": [
        "# Compiling the model with SGD optimixer and categorical crossentropy loss\n",
        "mlp_model.compile(loss=categorical_crossentropy, optimizer=SGD(lr=0.001), metrics=['accuracy'])\n",
        "              \n",
        "#Saves the Best Model Based on Val Loss\n",
        "checkpoint = ModelCheckpoint('best_mlp_model.h5', verbose=1, monitor='val_acc', save_best_only=True,  mode='auto')  \n",
        "\n",
        "#training the model\n",
        "mlp_history = mlp_model.fit(X_train, y_train, batch_size=batch_size, epochs=epochs, verbose=1, \n",
        "                            callbacks=[checkpoint], validation_data=(X_test, y_test), shuffle=True)"
      ],
      "execution_count": 23,
      "outputs": [
        {
          "output_type": "stream",
          "text": [
            "Train on 18000 samples, validate on 2000 samples\n",
            "Epoch 1/20\n",
            "18000/18000 [==============================] - 2s 138us/step - loss: 1.6250 - accuracy: 0.2766 - val_loss: 1.5697 - val_accuracy: 0.3055\n",
            "Epoch 2/20\n",
            "18000/18000 [==============================] - 1s 49us/step - loss: 1.5055 - accuracy: 0.3440 - val_loss: 1.5122 - val_accuracy: 0.3455\n",
            "Epoch 3/20\n",
            "18000/18000 [==============================] - 1s 48us/step - loss: 1.4496 - accuracy: 0.3787 - val_loss: 1.4800 - val_accuracy: 0.3650\n",
            "Epoch 4/20\n",
            "18000/18000 [==============================] - 1s 48us/step - loss: 1.4119 - accuracy: 0.4008 - val_loss: 1.4571 - val_accuracy: 0.3785\n",
            "Epoch 5/20\n",
            "18000/18000 [==============================] - 1s 48us/step - loss: 1.3818 - accuracy: 0.4190 - val_loss: 1.4410 - val_accuracy: 0.3970\n",
            "Epoch 6/20\n",
            "18000/18000 [==============================] - 1s 48us/step - loss: 1.3573 - accuracy: 0.4399 - val_loss: 1.4312 - val_accuracy: 0.3980\n",
            "Epoch 7/20\n",
            "18000/18000 [==============================] - 1s 48us/step - loss: 1.3367 - accuracy: 0.4491 - val_loss: 1.4179 - val_accuracy: 0.4080\n",
            "Epoch 8/20\n",
            "18000/18000 [==============================] - 1s 49us/step - loss: 1.3180 - accuracy: 0.4596 - val_loss: 1.4124 - val_accuracy: 0.4090\n",
            "Epoch 9/20\n",
            "18000/18000 [==============================] - 1s 48us/step - loss: 1.3004 - accuracy: 0.4729 - val_loss: 1.4009 - val_accuracy: 0.4170\n",
            "Epoch 10/20\n",
            "18000/18000 [==============================] - 1s 49us/step - loss: 1.2847 - accuracy: 0.4810 - val_loss: 1.3944 - val_accuracy: 0.4175\n",
            "Epoch 11/20\n",
            "18000/18000 [==============================] - 1s 48us/step - loss: 1.2705 - accuracy: 0.4881 - val_loss: 1.3929 - val_accuracy: 0.4240\n",
            "Epoch 12/20\n",
            "18000/18000 [==============================] - 1s 49us/step - loss: 1.2569 - accuracy: 0.4979 - val_loss: 1.3810 - val_accuracy: 0.4200\n",
            "Epoch 13/20\n",
            "18000/18000 [==============================] - 1s 48us/step - loss: 1.2442 - accuracy: 0.5032 - val_loss: 1.3773 - val_accuracy: 0.4285\n",
            "Epoch 14/20\n",
            "18000/18000 [==============================] - 1s 49us/step - loss: 1.2315 - accuracy: 0.5131 - val_loss: 1.3750 - val_accuracy: 0.4345\n",
            "Epoch 15/20\n",
            "18000/18000 [==============================] - 1s 48us/step - loss: 1.2196 - accuracy: 0.5179 - val_loss: 1.3703 - val_accuracy: 0.4355\n",
            "Epoch 16/20\n",
            "18000/18000 [==============================] - 1s 49us/step - loss: 1.2077 - accuracy: 0.5244 - val_loss: 1.3693 - val_accuracy: 0.4360\n",
            "Epoch 17/20\n",
            "18000/18000 [==============================] - 1s 48us/step - loss: 1.1964 - accuracy: 0.5305 - val_loss: 1.3618 - val_accuracy: 0.4415\n",
            "Epoch 18/20\n",
            "18000/18000 [==============================] - 1s 47us/step - loss: 1.1861 - accuracy: 0.5348 - val_loss: 1.3580 - val_accuracy: 0.4425\n",
            "Epoch 19/20\n",
            "18000/18000 [==============================] - 1s 49us/step - loss: 1.1754 - accuracy: 0.5415 - val_loss: 1.3551 - val_accuracy: 0.4425\n",
            "Epoch 20/20\n",
            "18000/18000 [==============================] - 1s 48us/step - loss: 1.1649 - accuracy: 0.5482 - val_loss: 1.3539 - val_accuracy: 0.4440\n"
          ],
          "name": "stdout"
        }
      ]
    },
    {
      "cell_type": "markdown",
      "metadata": {
        "id": "qF0MmGV8Lm7y",
        "colab_type": "text"
      },
      "source": [
        "##Neural Network Model Evaluation on pixel inputs"
      ]
    },
    {
      "cell_type": "markdown",
      "metadata": {
        "id": "ORXi0y71t3o8",
        "colab_type": "text"
      },
      "source": [
        "###Evaluate best model"
      ]
    },
    {
      "cell_type": "code",
      "metadata": {
        "id": "GQa2o-v7Iwbw",
        "colab_type": "code",
        "colab": {}
      },
      "source": [
        "def plot_graphs(history, best):\n",
        "  \n",
        "  plt.figure(figsize=[10,4])\n",
        "  # summarize history for accuracy\n",
        "  plt.subplot(121)\n",
        "  plt.plot(history.history['accuracy'])\n",
        "  plt.plot(history.history['val_accuracy'])\n",
        "  plt.title('model accuracy across training\\n best accuracy of %.02f'%best[1])\n",
        "  plt.ylabel('accuracy')\n",
        "  plt.xlabel('epoch')\n",
        "  plt.legend(['train', 'test'], loc='upper left')\n",
        "  \n",
        "  # summarize history for loss\n",
        "  plt.subplot(122)\n",
        "  plt.plot(history.history['loss'])\n",
        "  plt.plot(history.history['val_loss'])\n",
        "  plt.title('model loss across training\\n best loss of %.02f'%best[0])\n",
        "  plt.ylabel('loss')\n",
        "  plt.xlabel('epoch')\n",
        "  plt.legend(['train', 'test'], loc='upper left')\n",
        "  plt.show()"
      ],
      "execution_count": 28,
      "outputs": []
    },
    {
      "cell_type": "code",
      "metadata": {
        "id": "DnjfotXoth4e",
        "colab_type": "code",
        "colab": {
          "base_uri": "https://localhost:8080/",
          "height": 34
        },
        "outputId": "f7917255-aaca-4659-cd62-31d199884906"
      },
      "source": [
        "mlp_performance = mlp_model.evaluate(X_test, y_test, batch_size=64)"
      ],
      "execution_count": 29,
      "outputs": [
        {
          "output_type": "stream",
          "text": [
            "2000/2000 [==============================] - 0s 43us/step\n"
          ],
          "name": "stdout"
        }
      ]
    },
    {
      "cell_type": "markdown",
      "metadata": {
        "id": "3vgEP7OnGlR9",
        "colab_type": "text"
      },
      "source": [
        "###Visualize accuracy and loss over training + display best model's performance"
      ]
    },
    {
      "cell_type": "code",
      "metadata": {
        "id": "ktHNwzn0G73y",
        "colab_type": "code",
        "colab": {
          "base_uri": "https://localhost:8080/",
          "height": 310
        },
        "outputId": "3783e970-9573-4a51-da0e-b65e44567950"
      },
      "source": [
        "plot_graphs(mlp_history, mlp_performance); "
      ],
      "execution_count": 30,
      "outputs": [
        {
          "output_type": "display_data",
          "data": {
            "image/png": "[encoded data removed]",
            "text/plain": [
              "<Figure size 720x288 with 2 Axes>"
            ]
          },
          "metadata": {
            "tags": [],
            "needs_background": "light"
          }
        }
      ]
    },
    {
      "cell_type": "markdown",
      "metadata": {
        "id": "oPeyL20OFzjN",
        "colab_type": "text"
      },
      "source": [
        "###Plot the Confusion Matrix"
      ]
    },
    {
      "cell_type": "code",
      "metadata": {
        "id": "MgkxPwg2F7eL",
        "colab_type": "code",
        "colab": {
          "base_uri": "https://localhost:8080/",
          "height": 312
        },
        "outputId": "f3879e4b-6d8f-4a27-ed83-8048dc3486c8"
      },
      "source": [
        "y_pred_mlp = mlp_model.predict_classes(X_test)\n",
        "y_true = np.argmax(y_test,axis=1)\n",
        "plot_confusion_matrix(y_true, y_pred_mlp)"
      ],
      "execution_count": 31,
      "outputs": [
        {
          "output_type": "stream",
          "text": [
            "Plotting the Confusion Matrix\n"
          ],
          "name": "stdout"
        },
        {
          "output_type": "display_data",
          "data": {
            "image/png": "[encoded data removed]",
            "text/plain": [
              "<Figure size 432x288 with 2 Axes>"
            ]
          },
          "metadata": {
            "tags": [],
            "needs_background": "light"
          }
        }
      ]
    },
    {
      "cell_type": "markdown",
      "metadata": {
        "id": "XqLIJTjW0JE_",
        "colab_type": "text"
      },
      "source": [
        "##Neural Network Model Evaluation on distance inputs\n",
        "\n",
        "We saw yesterday that building a model on the distances between facial landmarks did better than on raw pixel inputs, is this true for these models as well? "
      ]
    },
    {
      "cell_type": "code",
      "metadata": {
        "id": "3yFQHl8n7Xjd",
        "colab_type": "code",
        "cellView": "both",
        "colab": {}
      },
      "source": [
        "#Load the data (Distances between facial Landmarks)\n",
        "dataX_lm = np.load('./dataX.npy')\n",
        "dataY_lm = np.load('./dataY.npy')\n",
        "\n",
        "# convert labels to one hot encoding\n",
        "y_onehot = keras.utils.to_categorical(dataY_lm, len(set(dataY_lm)))"
      ],
      "execution_count": 33,
      "outputs": []
    },
    {
      "cell_type": "code",
      "metadata": {
        "id": "k-aKmK6e0a4J",
        "colab_type": "code",
        "colab": {}
      },
      "source": [
        "# split Data into Train, Test (90-10)\n",
        "X_train_lm, X_test_lm, y_train_lm, y_test_lm = train_test_split(dataX_lm, y_onehot, test_size=0.1, random_state=42)\n",
        "\n",
        "#### Standardize the data ##########\n",
        "lm_scaler = StandardScaler()\n",
        "lm_scaler.fit(X_train_lm)\n",
        "X_train_lm = lm_scaler.transform(X_train_lm)\n",
        "X_test_lm = lm_scaler.transform(X_test_lm)"
      ],
      "execution_count": 34,
      "outputs": []
    },
    {
      "cell_type": "code",
      "metadata": {
        "id": "OPub4NX31R3q",
        "colab_type": "code",
        "colab": {}
      },
      "source": [
        "lm_model = Sequential()\n",
        "lm_model.add(Dense(1024, kernel_initializer=\"glorot_normal\", input_shape=(4556,), activation = 'relu')) # for the first layer we specify the input dimensions \n",
        "# then we have to add another layer \n",
        "lm_model.add(Dense(512, kernel_initializer=\"glorot_normal\", activation = 'relu'))\n",
        "# we end by defining the output layer, which has the number of dimensions of the predictions we're making\n",
        "lm_model.add(Dense(5, activation = 'softmax'))\n",
        "# we finalize the model by \"compiling\" it and defining some other hyperparameters \n",
        "lm_model.compile(loss='categorical_crossentropy', optimizer= optimizers.SGD(lr=0.001), metrics=['categorical_crossentropy'])"
      ],
      "execution_count": 35,
      "outputs": []
    },
    {
      "cell_type": "code",
      "metadata": {
        "id": "_QEUcTxh7Ara",
        "colab_type": "code",
        "colab": {
          "base_uri": "https://localhost:8080/",
          "height": 1000
        },
        "outputId": "09950cbf-6f3c-4b85-9aaa-d8453f63e459"
      },
      "source": [
        "# Compliling the model with SGD optimixer and categorical crossentropy loss\n",
        "lm_model.compile(loss=categorical_crossentropy, optimizer=SGD(lr=0.001), metrics=['accuracy'])\n",
        "\n",
        "#Saves the Best Model Based on Val Loss\n",
        "checkpoint = ModelCheckpoint('best_lm_model.h5', verbose=1, monitor='val_loss',save_best_only=True,  mode='auto')  \n",
        "#training the model\n",
        "lm_history = lm_model.fit(X_train_lm, y_train_lm, batch_size=batch_size, epochs=epochs, \n",
        "                          verbose=1, callbacks=[checkpoint], validation_data=(X_test_lm, y_test_lm), shuffle=True)"
      ],
      "execution_count": 36,
      "outputs": [
        {
          "output_type": "stream",
          "text": [
            "Train on 18000 samples, validate on 2000 samples\n",
            "Epoch 1/20\n",
            "18000/18000 [==============================] - 1s 66us/step - loss: 1.3871 - accuracy: 0.4172 - val_loss: 1.2904 - val_accuracy: 0.4700\n",
            "\n",
            "Epoch 00001: val_loss improved from inf to 1.29041, saving model to best_lm_model.h5\n",
            "Epoch 2/20\n",
            "18000/18000 [==============================] - 1s 62us/step - loss: 1.2492 - accuracy: 0.4886 - val_loss: 1.2433 - val_accuracy: 0.4860\n",
            "\n",
            "Epoch 00002: val_loss improved from 1.29041 to 1.24332, saving model to best_lm_model.h5\n",
            "Epoch 3/20\n",
            "18000/18000 [==============================] - 1s 64us/step - loss: 1.2110 - accuracy: 0.5098 - val_loss: 1.2215 - val_accuracy: 0.4965\n",
            "\n",
            "Epoch 00003: val_loss improved from 1.24332 to 1.22149, saving model to best_lm_model.h5\n",
            "Epoch 4/20\n",
            "18000/18000 [==============================] - 1s 63us/step - loss: 1.1864 - accuracy: 0.5203 - val_loss: 1.2103 - val_accuracy: 0.5025\n",
            "\n",
            "Epoch 00004: val_loss improved from 1.22149 to 1.21025, saving model to best_lm_model.h5\n",
            "Epoch 5/20\n",
            "18000/18000 [==============================] - 1s 64us/step - loss: 1.1666 - accuracy: 0.5322 - val_loss: 1.1922 - val_accuracy: 0.5065\n",
            "\n",
            "Epoch 00005: val_loss improved from 1.21025 to 1.19224, saving model to best_lm_model.h5\n",
            "Epoch 6/20\n",
            "18000/18000 [==============================] - 1s 64us/step - loss: 1.1509 - accuracy: 0.5438 - val_loss: 1.1879 - val_accuracy: 0.5165\n",
            "\n",
            "Epoch 00006: val_loss improved from 1.19224 to 1.18787, saving model to best_lm_model.h5\n",
            "Epoch 7/20\n",
            "18000/18000 [==============================] - 1s 65us/step - loss: 1.1382 - accuracy: 0.5482 - val_loss: 1.1758 - val_accuracy: 0.5235\n",
            "\n",
            "Epoch 00007: val_loss improved from 1.18787 to 1.17581, saving model to best_lm_model.h5\n",
            "Epoch 8/20\n",
            "18000/18000 [==============================] - 1s 63us/step - loss: 1.1260 - accuracy: 0.5568 - val_loss: 1.1746 - val_accuracy: 0.5210\n",
            "\n",
            "Epoch 00008: val_loss improved from 1.17581 to 1.17457, saving model to best_lm_model.h5\n",
            "Epoch 9/20\n",
            "18000/18000 [==============================] - 1s 63us/step - loss: 1.1154 - accuracy: 0.5584 - val_loss: 1.1704 - val_accuracy: 0.5255\n",
            "\n",
            "Epoch 00009: val_loss improved from 1.17457 to 1.17043, saving model to best_lm_model.h5\n",
            "Epoch 10/20\n",
            "18000/18000 [==============================] - 1s 63us/step - loss: 1.1070 - accuracy: 0.5652 - val_loss: 1.1739 - val_accuracy: 0.5280\n",
            "\n",
            "Epoch 00010: val_loss did not improve from 1.17043\n",
            "Epoch 11/20\n",
            "18000/18000 [==============================] - 1s 62us/step - loss: 1.0980 - accuracy: 0.5671 - val_loss: 1.1610 - val_accuracy: 0.5340\n",
            "\n",
            "Epoch 00011: val_loss improved from 1.17043 to 1.16102, saving model to best_lm_model.h5\n",
            "Epoch 12/20\n",
            "18000/18000 [==============================] - 1s 63us/step - loss: 1.0901 - accuracy: 0.5735 - val_loss: 1.1611 - val_accuracy: 0.5320\n",
            "\n",
            "Epoch 00012: val_loss did not improve from 1.16102\n",
            "Epoch 13/20\n",
            "18000/18000 [==============================] - 1s 62us/step - loss: 1.0835 - accuracy: 0.5739 - val_loss: 1.1521 - val_accuracy: 0.5435\n",
            "\n",
            "Epoch 00013: val_loss improved from 1.16102 to 1.15206, saving model to best_lm_model.h5\n",
            "Epoch 14/20\n",
            "18000/18000 [==============================] - 1s 65us/step - loss: 1.0774 - accuracy: 0.5759 - val_loss: 1.1495 - val_accuracy: 0.5360\n",
            "\n",
            "Epoch 00014: val_loss improved from 1.15206 to 1.14948, saving model to best_lm_model.h5\n",
            "Epoch 15/20\n",
            "18000/18000 [==============================] - 1s 66us/step - loss: 1.0700 - accuracy: 0.5818 - val_loss: 1.1503 - val_accuracy: 0.5445\n",
            "\n",
            "Epoch 00015: val_loss did not improve from 1.14948\n",
            "Epoch 16/20\n",
            "18000/18000 [==============================] - 1s 62us/step - loss: 1.0643 - accuracy: 0.5846 - val_loss: 1.1465 - val_accuracy: 0.5425\n",
            "\n",
            "Epoch 00016: val_loss improved from 1.14948 to 1.14650, saving model to best_lm_model.h5\n",
            "Epoch 17/20\n",
            "18000/18000 [==============================] - 1s 64us/step - loss: 1.0579 - accuracy: 0.5867 - val_loss: 1.1424 - val_accuracy: 0.5445\n",
            "\n",
            "Epoch 00017: val_loss improved from 1.14650 to 1.14240, saving model to best_lm_model.h5\n",
            "Epoch 18/20\n",
            "18000/18000 [==============================] - 1s 63us/step - loss: 1.0533 - accuracy: 0.5889 - val_loss: 1.1487 - val_accuracy: 0.5385\n",
            "\n",
            "Epoch 00018: val_loss did not improve from 1.14240\n",
            "Epoch 19/20\n",
            "18000/18000 [==============================] - 1s 63us/step - loss: 1.0470 - accuracy: 0.5906 - val_loss: 1.1450 - val_accuracy: 0.5405\n",
            "\n",
            "Epoch 00019: val_loss did not improve from 1.14240\n",
            "Epoch 20/20\n",
            "18000/18000 [==============================] - 1s 62us/step - loss: 1.0424 - accuracy: 0.5944 - val_loss: 1.1413 - val_accuracy: 0.5495\n",
            "\n",
            "Epoch 00020: val_loss improved from 1.14240 to 1.14129, saving model to best_lm_model.h5\n"
          ],
          "name": "stdout"
        }
      ]
    },
    {
      "cell_type": "markdown",
      "metadata": {
        "id": "Xb2ruZoq1YPO",
        "colab_type": "text"
      },
      "source": [
        "### Evaluate model"
      ]
    },
    {
      "cell_type": "code",
      "metadata": {
        "id": "IBOe-N6NgQag",
        "colab_type": "code",
        "colab": {
          "base_uri": "https://localhost:8080/",
          "height": 327
        },
        "outputId": "7ae803ac-e411-4fd7-b5ce-e2bb2b611717"
      },
      "source": [
        "lm_performance = lm_model.evaluate(X_test_lm, y_test_lm, batch_size=64)\n",
        "plot_graphs(lm_history, lm_performance); "
      ],
      "execution_count": 40,
      "outputs": [
        {
          "output_type": "stream",
          "text": [
            "2000/2000 [==============================] - 0s 47us/step\n"
          ],
          "name": "stdout"
        },
        {
          "output_type": "display_data",
          "data": {
            "image/png": "[encoded data removed]",
            "text/plain": [
              "<Figure size 720x288 with 2 Axes>"
            ]
          },
          "metadata": {
            "tags": [],
            "needs_background": "light"
          }
        }
      ]
    },
    {
      "cell_type": "markdown",
      "metadata": {
        "id": "yj3XDT2eu31x",
        "colab_type": "text"
      },
      "source": [
        "###Visualize accuracy and loss over training + display best model's performance"
      ]
    },
    {
      "cell_type": "code",
      "metadata": {
        "id": "kG1V_8AIs9Xf",
        "colab_type": "code",
        "colab": {
          "base_uri": "https://localhost:8080/",
          "height": 310
        },
        "outputId": "7519c3b5-209b-4ec3-879a-725815107425"
      },
      "source": [
        "plot_graphs(mlp_history, mlp_performance); "
      ],
      "execution_count": 39,
      "outputs": [
        {
          "output_type": "display_data",
          "data": {
            "image/png": "[encoded data removed]",
            "text/plain": [
              "<Figure size 720x288 with 2 Axes>"
            ]
          },
          "metadata": {
            "tags": [],
            "needs_background": "light"
          }
        }
      ]
    },
    {
      "cell_type": "markdown",
      "metadata": {
        "id": "1Xk6GHxUgiY6",
        "colab_type": "text"
      },
      "source": [
        "## Instructor-Led Discussion\n",
        "\n",
        "How can we explain the difference between these two models?"
      ]
    },
    {
      "cell_type": "markdown",
      "metadata": {
        "id": "lX9zvfvrAtrj",
        "colab_type": "text"
      },
      "source": [
        "#Convolutional Neural Networks for Emotion Detection!"
      ]
    },
    {
      "cell_type": "markdown",
      "metadata": {
        "id": "jXuDr1x1CZYP",
        "colab_type": "text"
      },
      "source": [
        "###Model Hyperparameters"
      ]
    },
    {
      "cell_type": "code",
      "metadata": {
        "id": "OvPqbBy8Cc1G",
        "colab_type": "code",
        "colab": {}
      },
      "source": [
        "# we'll use the same epochs and batch size as above\n",
        "width, height = 48, 48"
      ],
      "execution_count": 41,
      "outputs": []
    },
    {
      "cell_type": "markdown",
      "metadata": {
        "id": "wTH-IlrL0HVE",
        "colab_type": "text"
      },
      "source": [
        "###Reshape the inputs"
      ]
    },
    {
      "cell_type": "code",
      "metadata": {
        "id": "DwTlyCBk6FOd",
        "colab_type": "code",
        "colab": {
          "base_uri": "https://localhost:8080/",
          "height": 34
        },
        "outputId": "63ef0f22-6f60-4fae-8f29-3777b892ec81"
      },
      "source": [
        "# pixels were vectors\n",
        "print(X_train.shape) "
      ],
      "execution_count": 42,
      "outputs": [
        {
          "output_type": "stream",
          "text": [
            "(18000, 2304)\n"
          ],
          "name": "stdout"
        }
      ]
    },
    {
      "cell_type": "code",
      "metadata": {
        "id": "NNSP1-vz6Lnk",
        "colab_type": "code",
        "colab": {
          "base_uri": "https://localhost:8080/",
          "height": 34
        },
        "outputId": "4fbabf77-6e8c-43c0-bbbc-2acbcfe868c3"
      },
      "source": [
        "X_train_cnn = X_train.reshape(len(X_train),height,width)\n",
        "X_test_cnn = X_test.reshape(len(X_test),height,width)\n",
        "\n",
        "# we've converted them to images\n",
        "print(X_train_cnn.shape) "
      ],
      "execution_count": 43,
      "outputs": [
        {
          "output_type": "stream",
          "text": [
            "(18000, 48, 48)\n"
          ],
          "name": "stdout"
        }
      ]
    },
    {
      "cell_type": "code",
      "metadata": {
        "id": "RFP5S57i69o7",
        "colab_type": "code",
        "colab": {
          "base_uri": "https://localhost:8080/",
          "height": 34
        },
        "outputId": "1566e713-2792-430b-d61a-672242939924"
      },
      "source": [
        "# now we add one more dimension for model compatability\n",
        "X_train_cnn = np.expand_dims(X_train_cnn,3)\n",
        "X_test_cnn = np.expand_dims(X_test_cnn,3)\n",
        "\n",
        "print(X_train_cnn.shape)"
      ],
      "execution_count": 44,
      "outputs": [
        {
          "output_type": "stream",
          "text": [
            "(18000, 48, 48, 1)\n"
          ],
          "name": "stdout"
        }
      ]
    },
    {
      "cell_type": "code",
      "metadata": {
        "id": "fnI75Z1yDylH",
        "colab_type": "code",
        "cellView": "both",
        "colab": {}
      },
      "source": [
        "# Change the hyperparameters in the model below \n",
        "\n",
        "# initialize model\n",
        "cnn_model = Sequential()\n",
        "# this conv layer has 64 filters! the input shape needs to be the same dimensions of the image\n",
        "cnn_model.add(Conv2D(64, kernel_size=(3, 3), activation='relu', input_shape=(width, height, 1)))\n",
        "# batch normalization \n",
        "cnn_model.add(BatchNormalization())\n",
        "# max pooling\n",
        "cnn_model.add(MaxPooling2D(pool_size=(2, 2), strides=(2, 2)))\n",
        "# dropout\n",
        "cnn_model.add(Dropout(0.5))\n",
        "\n",
        "# flatten all the outputs between convolutional and dense layers\n",
        "cnn_model.add(Flatten())\n",
        "# add a \"dense layer\" (i.e. the fully connected layers in MLPs) with dropout\n",
        "cnn_model.add(Dense(512, activation='relu'))\n",
        "# output layer\n",
        "cnn_model.add(Dense(n_labels, activation='softmax'))"
      ],
      "execution_count": 46,
      "outputs": []
    },
    {
      "cell_type": "code",
      "metadata": {
        "id": "vtRf96cBdcom",
        "colab_type": "code",
        "colab": {}
      },
      "source": [
        "#YOUR CODE HERE\n",
        "#YOUR CODE HERE\n",
        "#YOUR CODE HERE\n",
        "#YOUR CODE HERE\n",
        "############### CALL YOUR MODEL 'cnn_model' \n",
        "#YOUR CODE HERE\n",
        "#YOUR CODE HERE\n",
        "#YOUR CODE HERE\n",
        "#YOUR CODE HERE"
      ],
      "execution_count": null,
      "outputs": []
    },
    {
      "cell_type": "code",
      "metadata": {
        "id": "YqirnWL8wDGR",
        "colab_type": "code",
        "colab": {
          "base_uri": "https://localhost:8080/",
          "height": 1000
        },
        "outputId": "10f24206-89e3-45b8-edaf-f5a54d6177a8"
      },
      "source": [
        "#Saves the Best Model Based on Val Loss\n",
        "checkpoint = ModelCheckpoint('best_cnn_model.h5', verbose=1, monitor='val_loss',save_best_only=True, mode='auto')  \n",
        "\n",
        "# compliling the model with adam optimixer and categorical crossentropy loss\n",
        "cnn_model.compile(loss=categorical_crossentropy, optimizer=Adam(lr=0.001, beta_1=0.9, beta_2=0.999), metrics=['accuracy'])\n",
        "\n",
        "# training the model\n",
        "cnn_history = cnn_model.fit(X_train_cnn, y_train, batch_size=batch_size, epochs=epochs, verbose=1, \n",
        "                            callbacks=[checkpoint], validation_data=(X_test_cnn, y_test), shuffle=True)"
      ],
      "execution_count": 47,
      "outputs": [
        {
          "output_type": "stream",
          "text": [
            "Train on 18000 samples, validate on 2000 samples\n",
            "Epoch 1/20\n",
            "18000/18000 [==============================] - 9s 524us/step - loss: 1.9895 - accuracy: 0.4191 - val_loss: 1.4939 - val_accuracy: 0.3885\n",
            "\n",
            "Epoch 00001: val_loss improved from inf to 1.49394, saving model to best_cnn_model.h5\n",
            "Epoch 2/20\n",
            "18000/18000 [==============================] - 5s 261us/step - loss: 1.1627 - accuracy: 0.5203 - val_loss: 1.2089 - val_accuracy: 0.5130\n",
            "\n",
            "Epoch 00002: val_loss improved from 1.49394 to 1.20894, saving model to best_cnn_model.h5\n",
            "Epoch 3/20\n",
            "18000/18000 [==============================] - 5s 259us/step - loss: 1.0238 - accuracy: 0.5909 - val_loss: 1.1828 - val_accuracy: 0.5225\n",
            "\n",
            "Epoch 00003: val_loss improved from 1.20894 to 1.18283, saving model to best_cnn_model.h5\n",
            "Epoch 4/20\n",
            "18000/18000 [==============================] - 5s 259us/step - loss: 0.8601 - accuracy: 0.6588 - val_loss: 1.2112 - val_accuracy: 0.5545\n",
            "\n",
            "Epoch 00004: val_loss did not improve from 1.18283\n",
            "Epoch 5/20\n",
            "18000/18000 [==============================] - 5s 260us/step - loss: 0.7174 - accuracy: 0.7256 - val_loss: 1.2869 - val_accuracy: 0.5225\n",
            "\n",
            "Epoch 00005: val_loss did not improve from 1.18283\n",
            "Epoch 6/20\n",
            "18000/18000 [==============================] - 5s 256us/step - loss: 0.6240 - accuracy: 0.7643 - val_loss: 1.4737 - val_accuracy: 0.5515\n",
            "\n",
            "Epoch 00006: val_loss did not improve from 1.18283\n",
            "Epoch 7/20\n",
            "18000/18000 [==============================] - 5s 256us/step - loss: 0.4546 - accuracy: 0.8313 - val_loss: 1.5507 - val_accuracy: 0.5500\n",
            "\n",
            "Epoch 00007: val_loss did not improve from 1.18283\n",
            "Epoch 8/20\n",
            "18000/18000 [==============================] - 5s 258us/step - loss: 0.3770 - accuracy: 0.8609 - val_loss: 1.6841 - val_accuracy: 0.5525\n",
            "\n",
            "Epoch 00008: val_loss did not improve from 1.18283\n",
            "Epoch 9/20\n",
            "18000/18000 [==============================] - 5s 260us/step - loss: 0.3059 - accuracy: 0.8889 - val_loss: 2.0173 - val_accuracy: 0.5510\n",
            "\n",
            "Epoch 00009: val_loss did not improve from 1.18283\n",
            "Epoch 10/20\n",
            "18000/18000 [==============================] - 5s 259us/step - loss: 0.2606 - accuracy: 0.9048 - val_loss: 1.9904 - val_accuracy: 0.5585\n",
            "\n",
            "Epoch 00010: val_loss did not improve from 1.18283\n",
            "Epoch 11/20\n",
            "18000/18000 [==============================] - 5s 259us/step - loss: 0.2211 - accuracy: 0.9226 - val_loss: 1.9085 - val_accuracy: 0.5525\n",
            "\n",
            "Epoch 00011: val_loss did not improve from 1.18283\n",
            "Epoch 12/20\n",
            "18000/18000 [==============================] - 5s 259us/step - loss: 0.1979 - accuracy: 0.9313 - val_loss: 2.0945 - val_accuracy: 0.5495\n",
            "\n",
            "Epoch 00012: val_loss did not improve from 1.18283\n",
            "Epoch 13/20\n",
            "18000/18000 [==============================] - 5s 258us/step - loss: 0.1750 - accuracy: 0.9388 - val_loss: 2.2955 - val_accuracy: 0.5595\n",
            "\n",
            "Epoch 00013: val_loss did not improve from 1.18283\n",
            "Epoch 14/20\n",
            "18000/18000 [==============================] - 5s 259us/step - loss: 0.1588 - accuracy: 0.9459 - val_loss: 2.4889 - val_accuracy: 0.5505\n",
            "\n",
            "Epoch 00014: val_loss did not improve from 1.18283\n",
            "Epoch 15/20\n",
            "18000/18000 [==============================] - 5s 258us/step - loss: 0.1708 - accuracy: 0.9427 - val_loss: 2.5445 - val_accuracy: 0.5400\n",
            "\n",
            "Epoch 00015: val_loss did not improve from 1.18283\n",
            "Epoch 16/20\n",
            "18000/18000 [==============================] - 5s 256us/step - loss: 0.1596 - accuracy: 0.9488 - val_loss: 2.4516 - val_accuracy: 0.5550\n",
            "\n",
            "Epoch 00016: val_loss did not improve from 1.18283\n",
            "Epoch 17/20\n",
            "18000/18000 [==============================] - 5s 257us/step - loss: 0.1520 - accuracy: 0.9506 - val_loss: 2.5250 - val_accuracy: 0.5625\n",
            "\n",
            "Epoch 00017: val_loss did not improve from 1.18283\n",
            "Epoch 18/20\n",
            "18000/18000 [==============================] - 5s 261us/step - loss: 0.1299 - accuracy: 0.9582 - val_loss: 2.8842 - val_accuracy: 0.5425\n",
            "\n",
            "Epoch 00018: val_loss did not improve from 1.18283\n",
            "Epoch 19/20\n",
            "18000/18000 [==============================] - 5s 257us/step - loss: 0.1193 - accuracy: 0.9603 - val_loss: 2.5851 - val_accuracy: 0.5465\n",
            "\n",
            "Epoch 00019: val_loss did not improve from 1.18283\n",
            "Epoch 20/20\n",
            "18000/18000 [==============================] - 5s 259us/step - loss: 0.1108 - accuracy: 0.9631 - val_loss: 2.7393 - val_accuracy: 0.5575\n",
            "\n",
            "Epoch 00020: val_loss did not improve from 1.18283\n"
          ],
          "name": "stdout"
        }
      ]
    },
    {
      "cell_type": "markdown",
      "metadata": {
        "id": "wXprpaHpxVb-",
        "colab_type": "text"
      },
      "source": [
        "###Evaluate the model"
      ]
    },
    {
      "cell_type": "code",
      "metadata": {
        "id": "JvCbnwZ_CBYv",
        "colab_type": "code",
        "colab": {
          "base_uri": "https://localhost:8080/",
          "height": 327
        },
        "outputId": "6ab0112f-7054-4840-f125-cc9c443d63eb"
      },
      "source": [
        "cnn_performance = cnn_model.evaluate(X_test_cnn, y_test, batch_size=64)\n",
        "plot_graphs(cnn_history, cnn_performance); "
      ],
      "execution_count": 49,
      "outputs": [
        {
          "output_type": "stream",
          "text": [
            "2000/2000 [==============================] - 0s 94us/step\n"
          ],
          "name": "stdout"
        },
        {
          "output_type": "display_data",
          "data": {
            "image/png": "[encoded data removed]",
            "text/plain": [
              "<Figure size 720x288 with 2 Axes>"
            ]
          },
          "metadata": {
            "tags": [],
            "needs_background": "light"
          }
        }
      ]
    },
    {
      "cell_type": "markdown",
      "metadata": {
        "id": "cDmHi_05BKnr",
        "colab_type": "text"
      },
      "source": [
        "###Plot Accuracy and Loss"
      ]
    },
    {
      "cell_type": "code",
      "metadata": {
        "id": "YdRZz5w2ixwO",
        "colab_type": "code",
        "colab": {
          "base_uri": "https://localhost:8080/",
          "height": 310
        },
        "outputId": "2e04d824-4037-43fd-a1e8-1229c2c62311"
      },
      "source": [
        "plot_graphs(lm_history, lm_performance); "
      ],
      "execution_count": 50,
      "outputs": [
        {
          "output_type": "display_data",
          "data": {
            "image/png": "[encoded data removed]",
            "text/plain": [
              "<Figure size 720x288 with 2 Axes>"
            ]
          },
          "metadata": {
            "tags": [],
            "needs_background": "light"
          }
        }
      ]
    },
    {
      "cell_type": "markdown",
      "metadata": {
        "id": "hzLSZVH0jdG0",
        "colab_type": "text"
      },
      "source": [
        "## Instructor-Led Discussion\n",
        "\n",
        "How does this model compare with the others? Did this perform as well as we wanted it to? What might be some of the reasons why?"
      ]
    },
    {
      "cell_type": "markdown",
      "metadata": {
        "id": "_eqKTSlRmEGF",
        "colab_type": "text"
      },
      "source": [
        "#Transfer Learning"
      ]
    },
    {
      "cell_type": "code",
      "metadata": {
        "id": "OPpE58jJmIdY",
        "colab_type": "code",
        "colab": {
          "base_uri": "https://localhost:8080/",
          "height": 1000
        },
        "outputId": "0c0d12ac-46c0-4a15-b73f-6d7ec9284476"
      },
      "source": [
        "#@title Run this to build your transfer learning model { display-mode: \"form\" }\n",
        "\n",
        "import keras\n",
        "from keras.models import Sequential\n",
        "from keras.layers import Activation, MaxPooling2D, Dropout, Flatten, Reshape, Dense, Conv2D, GlobalAveragePooling2D\n",
        "from keras.wrappers.scikit_learn import KerasClassifier\n",
        "import keras.optimizers as optimizers\n",
        "from keras.applications.vgg16 import VGG16\n",
        "\n",
        "# load the vgg network that is an 'expert' at 'imagenet' but do not include the FC layers\n",
        "vgg_expert = VGG16(weights = 'imagenet', include_top = False, input_shape = (48, 48, 3))\n",
        "\n",
        "# we add the first 12 layers of vgg to our own model vgg_model\n",
        "vgg_model = Sequential()\n",
        "vgg_model.add(vgg_expert)\n",
        "\n",
        "# and then add our own layers on top of it\n",
        "vgg_model.add(GlobalAveragePooling2D())\n",
        "vgg_model.add(Dense(1024, activation = 'relu'))\n",
        "vgg_model.add(Dropout(0.3))\n",
        "vgg_model.add(Dense(512, activation = 'relu'))\n",
        "vgg_model.add(Dropout(0.3))\n",
        "vgg_model.add(Dense(5, activation = 'sigmoid'))\n",
        "\n",
        "# finally, we build the vgg model and turn it on so we can use it!\n",
        "vgg_model.compile(loss = 'categorical_crossentropy', \n",
        "          optimizer = optimizers.SGD(lr=1e-4, momentum=0.95), \n",
        "          metrics=['accuracy'])\n",
        "\n",
        "X_TRAIN = np.array([np.transpose(np.array([X_train_cnn[ix].squeeze() for i in range(3)]), (1,2,0)) for ix in range(len(X_train))])\n",
        "X_TEST = np.array([np.transpose(np.array([X_test_cnn[ix].squeeze() for i in range(3)]), (1,2,0)) for ix in range(len(X_test))])\n",
        "\n",
        "#training the model\n",
        "vgg_history = vgg_model.fit(X_TRAIN, y_train,\n",
        "          batch_size=batch_size,\n",
        "          epochs=epochs,\n",
        "          verbose=1,\n",
        "          callbacks=[checkpoint],\n",
        "          validation_data=(X_TEST, y_test),\n",
        "          shuffle=True)"
      ],
      "execution_count": 52,
      "outputs": [
        {
          "output_type": "stream",
          "text": [
            "Downloading data from https://github.com/fchollet/deep-learning-models/releases/download/v0.1/vgg16_weights_tf_dim_ordering_tf_kernels_notop.h5\n",
            "58892288/58889256 [==============================] - 2s 0us/step\n",
            "Train on 18000 samples, validate on 2000 samples\n",
            "Epoch 1/20\n",
            "18000/18000 [==============================] - 12s 643us/step - loss: 1.5475 - accuracy: 0.2913 - val_loss: 1.3749 - val_accuracy: 0.4480\n",
            "\n",
            "Epoch 00001: val_loss did not improve from 1.18283\n",
            "Epoch 2/20\n",
            "18000/18000 [==============================] - 11s 595us/step - loss: 1.3285 - accuracy: 0.4354 - val_loss: 1.1774 - val_accuracy: 0.5265\n",
            "\n",
            "Epoch 00002: val_loss improved from 1.18283 to 1.17744, saving model to best_cnn_model.h5\n",
            "Epoch 3/20\n",
            "18000/18000 [==============================] - 11s 604us/step - loss: 1.1577 - accuracy: 0.5263 - val_loss: 1.0621 - val_accuracy: 0.5620\n",
            "\n",
            "Epoch 00003: val_loss improved from 1.17744 to 1.06209, saving model to best_cnn_model.h5\n",
            "Epoch 4/20\n",
            "18000/18000 [==============================] - 11s 595us/step - loss: 1.0724 - accuracy: 0.5629 - val_loss: 1.0318 - val_accuracy: 0.5820\n",
            "\n",
            "Epoch 00004: val_loss improved from 1.06209 to 1.03178, saving model to best_cnn_model.h5\n",
            "Epoch 5/20\n",
            "18000/18000 [==============================] - 11s 598us/step - loss: 1.0153 - accuracy: 0.5911 - val_loss: 0.9634 - val_accuracy: 0.6105\n",
            "\n",
            "Epoch 00005: val_loss improved from 1.03178 to 0.96339, saving model to best_cnn_model.h5\n",
            "Epoch 6/20\n",
            "18000/18000 [==============================] - 11s 598us/step - loss: 0.9672 - accuracy: 0.6134 - val_loss: 0.9392 - val_accuracy: 0.6300\n",
            "\n",
            "Epoch 00006: val_loss improved from 0.96339 to 0.93917, saving model to best_cnn_model.h5\n",
            "Epoch 7/20\n",
            "18000/18000 [==============================] - 11s 597us/step - loss: 0.9268 - accuracy: 0.6287 - val_loss: 0.9260 - val_accuracy: 0.6255\n",
            "\n",
            "Epoch 00007: val_loss improved from 0.93917 to 0.92597, saving model to best_cnn_model.h5\n",
            "Epoch 8/20\n",
            "18000/18000 [==============================] - 11s 600us/step - loss: 0.8941 - accuracy: 0.6447 - val_loss: 0.9060 - val_accuracy: 0.6415\n",
            "\n",
            "Epoch 00008: val_loss improved from 0.92597 to 0.90599, saving model to best_cnn_model.h5\n",
            "Epoch 9/20\n",
            "18000/18000 [==============================] - 11s 595us/step - loss: 0.8628 - accuracy: 0.6590 - val_loss: 0.9058 - val_accuracy: 0.6310\n",
            "\n",
            "Epoch 00009: val_loss improved from 0.90599 to 0.90583, saving model to best_cnn_model.h5\n",
            "Epoch 10/20\n",
            "18000/18000 [==============================] - 11s 595us/step - loss: 0.8359 - accuracy: 0.6711 - val_loss: 0.8689 - val_accuracy: 0.6490\n",
            "\n",
            "Epoch 00010: val_loss improved from 0.90583 to 0.86891, saving model to best_cnn_model.h5\n",
            "Epoch 11/20\n",
            "18000/18000 [==============================] - 11s 596us/step - loss: 0.8030 - accuracy: 0.6847 - val_loss: 0.8657 - val_accuracy: 0.6535\n",
            "\n",
            "Epoch 00011: val_loss improved from 0.86891 to 0.86569, saving model to best_cnn_model.h5\n",
            "Epoch 12/20\n",
            "18000/18000 [==============================] - 11s 597us/step - loss: 0.7742 - accuracy: 0.6974 - val_loss: 0.8690 - val_accuracy: 0.6575\n",
            "\n",
            "Epoch 00012: val_loss did not improve from 0.86569\n",
            "Epoch 13/20\n",
            "18000/18000 [==============================] - 11s 594us/step - loss: 0.7390 - accuracy: 0.7117 - val_loss: 0.8688 - val_accuracy: 0.6650\n",
            "\n",
            "Epoch 00013: val_loss did not improve from 0.86569\n",
            "Epoch 14/20\n",
            "18000/18000 [==============================] - 11s 598us/step - loss: 0.7183 - accuracy: 0.7226 - val_loss: 0.8469 - val_accuracy: 0.6685\n",
            "\n",
            "Epoch 00014: val_loss improved from 0.86569 to 0.84685, saving model to best_cnn_model.h5\n",
            "Epoch 15/20\n",
            "18000/18000 [==============================] - 11s 598us/step - loss: 0.6795 - accuracy: 0.7368 - val_loss: 0.8619 - val_accuracy: 0.6640\n",
            "\n",
            "Epoch 00015: val_loss did not improve from 0.84685\n",
            "Epoch 16/20\n",
            "18000/18000 [==============================] - 11s 595us/step - loss: 0.6522 - accuracy: 0.7484 - val_loss: 0.9086 - val_accuracy: 0.6685\n",
            "\n",
            "Epoch 00016: val_loss did not improve from 0.84685\n",
            "Epoch 17/20\n",
            "18000/18000 [==============================] - 11s 594us/step - loss: 0.6469 - accuracy: 0.7496 - val_loss: 0.8617 - val_accuracy: 0.6830\n",
            "\n",
            "Epoch 00017: val_loss did not improve from 0.84685\n",
            "Epoch 18/20\n",
            "18000/18000 [==============================] - 11s 593us/step - loss: 0.5961 - accuracy: 0.7696 - val_loss: 0.8980 - val_accuracy: 0.6730\n",
            "\n",
            "Epoch 00018: val_loss did not improve from 0.84685\n",
            "Epoch 19/20\n",
            "18000/18000 [==============================] - 11s 594us/step - loss: 0.5613 - accuracy: 0.7875 - val_loss: 0.8729 - val_accuracy: 0.6755\n",
            "\n",
            "Epoch 00019: val_loss did not improve from 0.84685\n",
            "Epoch 20/20\n",
            "18000/18000 [==============================] - 11s 592us/step - loss: 0.5362 - accuracy: 0.7941 - val_loss: 0.8742 - val_accuracy: 0.6815\n",
            "\n",
            "Epoch 00020: val_loss did not improve from 0.84685\n"
          ],
          "name": "stdout"
        }
      ]
    },
    {
      "cell_type": "markdown",
      "metadata": {
        "id": "rwABV9sHAclF",
        "colab_type": "text"
      },
      "source": [
        "###Evaluate model"
      ]
    },
    {
      "cell_type": "markdown",
      "metadata": {
        "id": "EjquMpMmAZEo",
        "colab_type": "text"
      },
      "source": [
        "###Visualize accuracy and loss over training + display best model's performance"
      ]
    },
    {
      "cell_type": "code",
      "metadata": {
        "id": "OflGd8RFsrTX",
        "colab_type": "code",
        "colab": {}
      },
      "source": [
        "# YOUR CODE HERE"
      ],
      "execution_count": null,
      "outputs": []
    },
    {
      "cell_type": "code",
      "metadata": {
        "id": "A-V2HVMOGRZ-",
        "colab_type": "code",
        "colab": {}
      },
      "source": [
        "compare_learning(mlp_history, lm_history, cnn_history, vgg_history)"
      ],
      "execution_count": null,
      "outputs": []
    },
    {
      "cell_type": "markdown",
      "metadata": {
        "id": "-kmm2fWDBtfW",
        "colab_type": "text"
      },
      "source": [
        "###How can we explain this pattern of performance across all these models?"
      ]
    },
    {
      "cell_type": "markdown",
      "metadata": {
        "id": "SRW9UiFbBoAK",
        "colab_type": "text"
      },
      "source": [
        "# Finished :D"
      ]
    }
  ]
}